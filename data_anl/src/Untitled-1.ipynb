{
 "cells": [
  {
   "cell_type": "code",
   "execution_count": 2,
   "metadata": {},
   "outputs": [],
   "source": [
    "import numpy as np\n",
    "import pandas as pd"
   ]
  },
  {
   "cell_type": "code",
   "execution_count": 5,
   "metadata": {},
   "outputs": [
    {
     "name": "stdout",
     "output_type": "stream",
     "text": [
      "<class 'pandas.core.frame.DataFrame'>\n",
      "Index: 6664 entries, 0 to 6663\n",
      "Data columns (total 27 columns):\n",
      " #   Column                  Non-Null Count  Dtype  \n",
      "---  ------                  --------------  -----  \n",
      " 0   사업장명                    6664 non-null   object \n",
      " 1   업소유형                    874 non-null    object \n",
      " 2   업태구분명                   6664 non-null   object \n",
      " 3   지번주소                    6653 non-null   object \n",
      " 4   도로명주소                   3986 non-null   object \n",
      " 5   가까운 지하철역                5774 non-null   object \n",
      " 6   지하철역과의 거리               6664 non-null   float64\n",
      " 7   도보시간                    6664 non-null   float64\n",
      " 8   위도                      5774 non-null   float64\n",
      " 9   경도                      5774 non-null   float64\n",
      " 10  별점                      310 non-null    float64\n",
      " 11  방문자 리뷰수                 685 non-null    object \n",
      " 12  블로그 리뷰수                 513 non-null    object \n",
      " 13  한실수                     5434 non-null   float64\n",
      " 14  양실수                     5347 non-null   float64\n",
      " 15  욕실수                     4813 non-null   float64\n",
      " 16  구비시설                    107 non-null    object \n",
      " 17  네이버 이런점이 좋아요 총합         191 non-null    float64\n",
      " 18  네이버 이런점이 좋아요 {항목:좋아요수}  191 non-null    object \n",
      " 19  데이터갱신일자                 6664 non-null   object \n",
      " 20  인허가일자                   6664 non-null   object \n",
      " 21  인허가취소일자                 0 non-null      float64\n",
      " 22  영업상태코드                  6664 non-null   int64  \n",
      " 23  폐업일자                    4173 non-null   object \n",
      " 24  휴업시작일자                  0 non-null      float64\n",
      " 25  휴업종료일자                  0 non-null      float64\n",
      " 26  재개업일자                   0 non-null      float64\n",
      "dtypes: float64(13), int64(1), object(13)\n",
      "memory usage: 1.4+ MB\n"
     ]
    }
   ],
   "source": [
    "naver_df = pd.read_csv('../../naver_crw/DAOU/test_large_out_v3.csv', index_col=0, encoding='euc-kr')\n",
    "naver_df.info()"
   ]
  },
  {
   "cell_type": "code",
   "execution_count": 13,
   "metadata": {},
   "outputs": [
    {
     "data": {
      "text/plain": [
       "0       {'깨끗해요': 29},{'조용히 쉬기 좋아요': 22},{'냉난방이 잘돼요': 2...\n",
       "12      {'근처에 갈 곳이 많아요': 7},{'침구가 좋아요': 6},{'친절해요': 6}...\n",
       "30      {'인테리어가 멋져요': 30},{'친절해요': 29},{'깨끗해요': 18},{'...\n",
       "33      {'친절해요': 34},{'인테리어가 멋져요': 32},{'깨끗해요': 25},{'...\n",
       "37      {'인테리어가 멋져요': 417},{'조용히 쉬기 좋아요': 394},{'호캉스하기...\n",
       "                              ...                        \n",
       "6405    {'깨끗해요': 14},{'침구가 좋아요': 11},{'냉난방이 잘돼요': 11},...\n",
       "6410    {'친절해요': 7},{'조용히 쉬기 좋아요': 4},{'깨끗해요': 3},{'주차...\n",
       "6433    {'침구가 좋아요': 5},{'깨끗해요': 4},{'조용히 쉬기 좋아요': 4},{...\n",
       "6435    {'깨끗해요': 6},{'침구가 좋아요': 4},{'주차하기 편해요': 4},{'대...\n",
       "6654    {'깨끗해요': 8},{'침구가 좋아요': 7},{'대중교통이 편해요': 5},{'...\n",
       "Name: 네이버 이런점이 좋아요 {항목:좋아요수}, Length: 191, dtype: object"
      ]
     },
     "execution_count": 13,
     "metadata": {},
     "output_type": "execute_result"
    }
   ],
   "source": [
    "these_good = naver_df.loc[pd.notna(naver_df['네이버 이런점이 좋아요 {항목:좋아요수}']), '네이버 이런점이 좋아요 {항목:좋아요수}']\n",
    "these_good"
   ]
  },
  {
   "cell_type": "code",
   "execution_count": 56,
   "metadata": {},
   "outputs": [],
   "source": [
    "def line_to_dict(line):\n",
    "\n",
    "    line_split = line.split(',')\n",
    "    dict_ele = {}\n",
    "\n",
    "    print(len(line_split))\n",
    "\n",
    "    for i in range(len(line_split)):\n",
    "        #print(eval(line_split[i]).items())\n",
    "        for key, value in eval(line_split[i]).items():\n",
    "            #print(key, value)\n",
    "            dict_ele[key] = dict_ele.get(key, 0) + value\n",
    "\n",
    "    return dict_ele\n"
   ]
  },
  {
   "cell_type": "code",
   "execution_count": 54,
   "metadata": {},
   "outputs": [
    {
     "name": "stdout",
     "output_type": "stream",
     "text": [
      "13\n"
     ]
    }
   ],
   "source": [
    "line_split = these_good[0].split(',')\n",
    "dict_ele = {}\n",
    "\n",
    "print(len(line_split))\n",
    "\n",
    "for i in range(len(line_split)):\n",
    "    #print(eval(line_split[i]).items())\n",
    "    for key, value in eval(line_split[i]).items():\n",
    "        #print(key, value)\n",
    "        dict_ele[key] = dict_ele.get(key, 0) + value"
   ]
  },
  {
   "cell_type": "code",
   "execution_count": 55,
   "metadata": {},
   "outputs": [
    {
     "data": {
      "text/plain": [
       "{'깨끗해요': 29,\n",
       " '조용히 쉬기 좋아요': 22,\n",
       " '냉난방이 잘돼요': 22,\n",
       " '침구가 좋아요': 21,\n",
       " '대중교통이 편해요': 13,\n",
       " '화장실이 잘 되어있어요': 13,\n",
       " '뷰가 좋아요': 11,\n",
       " '인테리어가 멋져요': 7,\n",
       " '친절해요': 6,\n",
       " '근처에 갈 곳이 많아요': 6,\n",
       " '즐길 거리가 많아요': 2,\n",
       " '사진이 잘 나와요': 2,\n",
       " '방음이 잘돼요': 2}"
      ]
     },
     "execution_count": 55,
     "metadata": {},
     "output_type": "execute_result"
    }
   ],
   "source": [
    "dict_ele"
   ]
  },
  {
   "cell_type": "code",
   "execution_count": null,
   "metadata": {},
   "outputs": [],
   "source": []
  },
  {
   "cell_type": "code",
   "execution_count": null,
   "metadata": {},
   "outputs": [],
   "source": []
  }
 ],
 "metadata": {
  "kernelspec": {
   "display_name": "Python 3",
   "language": "python",
   "name": "python3"
  },
  "language_info": {
   "codemirror_mode": {
    "name": "ipython",
    "version": 3
   },
   "file_extension": ".py",
   "mimetype": "text/x-python",
   "name": "python",
   "nbconvert_exporter": "python",
   "pygments_lexer": "ipython3",
   "version": "3.8.16"
  },
  "orig_nbformat": 4
 },
 "nbformat": 4,
 "nbformat_minor": 2
}
