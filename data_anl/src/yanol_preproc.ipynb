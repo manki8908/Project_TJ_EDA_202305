{
 "cells": [
  {
   "attachments": {},
   "cell_type": "markdown",
   "metadata": {},
   "source": [
    "야놀자 전처리\n",
    "1. 중복제거(사업장명, 위도, 경도)\n",
    "2. DB 구축을 위한 primary 키 삽입 string(사업장명, 위도, 경도)\n",
    "3. primary key nan제거"
   ]
  },
  {
   "cell_type": "code",
   "execution_count": 20,
   "metadata": {},
   "outputs": [],
   "source": [
    "import pandas as pd\n",
    "import numpy as np\n",
    "import re\n",
    "import os"
   ]
  },
  {
   "cell_type": "code",
   "execution_count": 21,
   "metadata": {},
   "outputs": [
    {
     "name": "stdout",
     "output_type": "stream",
     "text": [
      "<class 'pandas.core.frame.DataFrame'>\n",
      "RangeIndex: 1206 entries, 0 to 1205\n",
      "Data columns (total 34 columns):\n",
      " #   Column                 Non-Null Count  Dtype  \n",
      "---  ------                 --------------  -----  \n",
      " 0   이름                     1206 non-null   object \n",
      " 1   종류                     1206 non-null   object \n",
      " 2   평점                     1206 non-null   float64\n",
      " 3   숙박가격                   1206 non-null   int64  \n",
      " 4   도보시간                   1206 non-null   object \n",
      " 5   인기테그                   1206 non-null   object \n",
      " 6   별점 높은순 후기              1206 non-null   object \n",
      " 7   별점 낮은순 후기              1198 non-null   object \n",
      " 8   주소                     1206 non-null   object \n",
      " 9   객실수                    1188 non-null   object \n",
      " 10  총후기                    1206 non-null   int64  \n",
      " 11  대실가격                   700 non-null    float64\n",
      " 12  대실시간                   741 non-null    float64\n",
      " 13  위도                     1206 non-null   float64\n",
      " 14  경도                     1206 non-null   float64\n",
      " 15  경쟁업소_수(1km내)           1206 non-null   int64  \n",
      " 16  경쟁업소_최단거리(1km내)        1195 non-null   float64\n",
      " 17  경쟁업소_최장거리(1km내)        1193 non-null   float64\n",
      " 18  경쟁업소_평균거리(1km내)        1193 non-null   float64\n",
      " 19  버스정류장_수(1km내)          1206 non-null   int64  \n",
      " 20  지하철역_수(1km내)           1206 non-null   int64  \n",
      " 21  버스정류장_최단거리(1km내)       1130 non-null   float64\n",
      " 22  버스정류장_평균거리(1km내)       1130 non-null   float64\n",
      " 23  지하철역_최단거리(1km내)        1130 non-null   float64\n",
      " 24  지하철역_평균거리(1km내)        1130 non-null   float64\n",
      " 25  교통유동인구_월평균승차수(1km내)    1206 non-null   float64\n",
      " 26  교통유동인구_월평균하차수(1km내)    1206 non-null   float64\n",
      " 27  교통유동인구_월평균승하차총계(1km내)  1206 non-null   float64\n",
      " 28  관광지_수(1km내)            1206 non-null   int64  \n",
      " 29  쇼핑몰_수(1km내)            1206 non-null   int64  \n",
      " 30  관광지_최단거리(1km내)         1136 non-null   float64\n",
      " 31  관광지_평균거리(1km내)         1136 non-null   float64\n",
      " 32  쇼핑몰_최단거리(1km내)         1136 non-null   float64\n",
      " 33  쇼핑몰_평균거리(1km내)         1136 non-null   float64\n",
      "dtypes: float64(19), int64(7), object(8)\n",
      "memory usage: 320.5+ KB\n"
     ]
    }
   ],
   "source": [
    "yanolja_df = pd.read_excel('../DABA/middle4.xlsx')\n",
    "yanolja_df.info()"
   ]
  },
  {
   "cell_type": "code",
   "execution_count": 23,
   "metadata": {},
   "outputs": [
    {
     "name": "stderr",
     "output_type": "stream",
     "text": [
      "C:\\Users\\tjoeun\\AppData\\Local\\Temp\\ipykernel_6572\\386546623.py:7: SettingWithCopyWarning: \n",
      "A value is trying to be set on a copy of a slice from a DataFrame\n",
      "\n",
      "See the caveats in the documentation: https://pandas.pydata.org/pandas-docs/stable/user_guide/indexing.html#returning-a-view-versus-a-copy\n",
      "  yanolja_df['yanolja_pk'][i] = f\"{yanolja_df['위도'][i]:.10f}, {yanolja_df['경도'][i]:.10f}\"\n"
     ]
    }
   ],
   "source": [
    "# 프라이머리 키 생성\n",
    "yanolja_df['yanolja_pk'] = np.nan\n",
    "for i in range(yanolja_df.shape[0]):\n",
    "    if pd.isnull(yanolja_df['위도'][i]) and pd.isnull(yanolja_df['경도'][i]):\n",
    "        yanolja_df['yanolja_pk'][i] = np.nan\n",
    "    else:        \n",
    "        yanolja_df['yanolja_pk'][i] = f\"{yanolja_df['위도'][i]:.10f}, {yanolja_df['경도'][i]:.10f}\"   \n",
    "\n"
   ]
  },
  {
   "cell_type": "code",
   "execution_count": 25,
   "metadata": {},
   "outputs": [
    {
     "name": "stdout",
     "output_type": "stream",
     "text": [
      "중복 개수 95, nan 개수 0\n",
      "95 1108 1206\n"
     ]
    }
   ],
   "source": [
    "# .. 위경도 중복 제거\n",
    "# 중복 개수 확인\n",
    "df_temp1 = yanolja_df.groupby(['yanolja_pk'])['주소'].count().reset_index(name='호실개수')\n",
    "duplicate_name = df_temp1[df_temp1.호실개수 >= 2] # 21개\n",
    "duplicate_name\n",
    "num_nankey = len(yanolja_df[pd.isna(yanolja_df['yanolja_pk'])])\n",
    "print(f'중복 개수 {len(duplicate_name)}, nan 개수 {num_nankey}')\n",
    "\n",
    "yanolja_df_p1 = yanolja_df.drop_duplicates(['yanolja_pk'])    # 6664 --> 6383\n",
    "print(len(duplicate_name), yanolja_df_p1.shape[0], yanolja_df.shape[0])"
   ]
  },
  {
   "cell_type": "code",
   "execution_count": 26,
   "metadata": {},
   "outputs": [],
   "source": [
    "yanolja_df_p1.to_csv(\"../DAOU/yanolja.csv\", encoding='euc-kr', index=False)"
   ]
  }
 ],
 "metadata": {
  "kernelspec": {
   "display_name": "Python 3",
   "language": "python",
   "name": "python3"
  },
  "language_info": {
   "codemirror_mode": {
    "name": "ipython",
    "version": 3
   },
   "file_extension": ".py",
   "mimetype": "text/x-python",
   "name": "python",
   "nbconvert_exporter": "python",
   "pygments_lexer": "ipython3",
   "version": "3.8.7"
  },
  "orig_nbformat": 4
 },
 "nbformat": 4,
 "nbformat_minor": 2
}
