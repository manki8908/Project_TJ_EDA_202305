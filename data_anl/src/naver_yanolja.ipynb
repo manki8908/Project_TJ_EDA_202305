{
 "cells": [
  {
   "cell_type": "code",
   "execution_count": 12,
   "metadata": {},
   "outputs": [],
   "source": [
    "import pandas as pd\n",
    "import numpy as np\n",
    "import re\n",
    "import os\n",
    "from tqdm import tqdm"
   ]
  },
  {
   "cell_type": "code",
   "execution_count": 13,
   "metadata": {},
   "outputs": [],
   "source": [
    "naver_df = pd.read_csv('../DAOU/naver.csv', encoding='euc-kr')"
   ]
  },
  {
   "cell_type": "code",
   "execution_count": 4,
   "metadata": {},
   "outputs": [
    {
     "name": "stdout",
     "output_type": "stream",
     "text": [
      "<class 'pandas.core.frame.DataFrame'>\n",
      "Index: 6122 entries, 어반스테이 명동 to 오류\n",
      "Data columns (total 27 columns):\n",
      " #   Column                  Non-Null Count  Dtype  \n",
      "---  ------                  --------------  -----  \n",
      " 0   업소유형                    832 non-null    object \n",
      " 1   업태구분명                   6122 non-null   object \n",
      " 2   지번주소                    6111 non-null   object \n",
      " 3   도로명주소                   3812 non-null   object \n",
      " 4   가까운 지하철역                5470 non-null   object \n",
      " 5   지하철역과의 거리               6122 non-null   float64\n",
      " 6   도보시간                    6122 non-null   float64\n",
      " 7   위도                      5470 non-null   float64\n",
      " 8   경도                      5470 non-null   float64\n",
      " 9   별점                      295 non-null    float64\n",
      " 10  방문자 리뷰수                 645 non-null    object \n",
      " 11  블로그 리뷰수                 492 non-null    object \n",
      " 12  한실수                     4973 non-null   float64\n",
      " 13  양실수                     4905 non-null   float64\n",
      " 14  욕실수                     4430 non-null   float64\n",
      " 15  구비시설                    106 non-null    object \n",
      " 16  네이버 이런점이 좋아요 총합         186 non-null    float64\n",
      " 17  네이버 이런점이 좋아요 {항목:좋아요수}  186 non-null    object \n",
      " 18  데이터갱신일자                 6122 non-null   object \n",
      " 19  인허가일자                   6122 non-null   object \n",
      " 20  인허가취소일자                 0 non-null      float64\n",
      " 21  영업상태코드                  6122 non-null   int64  \n",
      " 22  폐업일자                    3713 non-null   object \n",
      " 23  휴업시작일자                  0 non-null      float64\n",
      " 24  휴업종료일자                  0 non-null      float64\n",
      " 25  재개업일자                   0 non-null      float64\n",
      " 26  naver_pk                6122 non-null   object \n",
      "dtypes: float64(13), int64(1), object(13)\n",
      "memory usage: 1.3+ MB\n"
     ]
    }
   ],
   "source": [
    "naver_df.info()"
   ]
  },
  {
   "cell_type": "code",
   "execution_count": 14,
   "metadata": {},
   "outputs": [
    {
     "name": "stdout",
     "output_type": "stream",
     "text": [
      "<class 'pandas.core.frame.DataFrame'>\n",
      "RangeIndex: 1108 entries, 0 to 1107\n",
      "Data columns (total 35 columns):\n",
      " #   Column                 Non-Null Count  Dtype  \n",
      "---  ------                 --------------  -----  \n",
      " 0   이름                     1108 non-null   object \n",
      " 1   종류                     1108 non-null   object \n",
      " 2   평점                     1108 non-null   float64\n",
      " 3   숙박가격                   1108 non-null   int64  \n",
      " 4   도보시간                   1108 non-null   object \n",
      " 5   인기테그                   1108 non-null   object \n",
      " 6   별점 높은순 후기              1108 non-null   object \n",
      " 7   별점 낮은순 후기              1102 non-null   object \n",
      " 8   주소                     1108 non-null   object \n",
      " 9   객실수                    1093 non-null   object \n",
      " 10  총후기                    1108 non-null   int64  \n",
      " 11  대실가격                   640 non-null    float64\n",
      " 12  대실시간                   674 non-null    float64\n",
      " 13  위도                     1108 non-null   float64\n",
      " 14  경도                     1108 non-null   float64\n",
      " 15  경쟁업소_수(1km내)           1108 non-null   int64  \n",
      " 16  경쟁업소_최단거리(1km내)        1097 non-null   float64\n",
      " 17  경쟁업소_최장거리(1km내)        1095 non-null   float64\n",
      " 18  경쟁업소_평균거리(1km내)        1095 non-null   float64\n",
      " 19  버스정류장_수(1km내)          1108 non-null   int64  \n",
      " 20  지하철역_수(1km내)           1108 non-null   int64  \n",
      " 21  버스정류장_최단거리(1km내)       1039 non-null   float64\n",
      " 22  버스정류장_평균거리(1km내)       1039 non-null   float64\n",
      " 23  지하철역_최단거리(1km내)        1039 non-null   float64\n",
      " 24  지하철역_평균거리(1km내)        1039 non-null   float64\n",
      " 25  교통유동인구_월평균승차수(1km내)    1108 non-null   float64\n",
      " 26  교통유동인구_월평균하차수(1km내)    1108 non-null   float64\n",
      " 27  교통유동인구_월평균승하차총계(1km내)  1108 non-null   float64\n",
      " 28  관광지_수(1km내)            1108 non-null   int64  \n",
      " 29  쇼핑몰_수(1km내)            1108 non-null   int64  \n",
      " 30  관광지_최단거리(1km내)         1046 non-null   float64\n",
      " 31  관광지_평균거리(1km내)         1046 non-null   float64\n",
      " 32  쇼핑몰_최단거리(1km내)         1046 non-null   float64\n",
      " 33  쇼핑몰_평균거리(1km내)         1046 non-null   float64\n",
      " 34  yanolja_pk             1108 non-null   object \n",
      "dtypes: float64(19), int64(7), object(9)\n",
      "memory usage: 303.1+ KB\n"
     ]
    }
   ],
   "source": [
    "yanolja_df = pd.read_csv('../DAOU/yanolja.csv', encoding='euc-kr')\n",
    "yanolja_df.info()"
   ]
  },
  {
   "cell_type": "code",
   "execution_count": 15,
   "metadata": {},
   "outputs": [
    {
     "name": "stdout",
     "output_type": "stream",
     "text": [
      "1042\n",
      "1042\n",
      "1042\n"
     ]
    }
   ],
   "source": [
    "print(len(yanolja_df[yanolja_df['yanolja_pk'].isin(naver_df['naver_pk'])])) # '1148' 개 ㅋ \n",
    "print(len(yanolja_df[yanolja_df['위도'].isin(naver_df['위도'])])) # '1148' 개 ㅋ \n",
    "print(len(yanolja_df[yanolja_df['경도'].isin(naver_df['경도'])])) # '1148' 개 ㅋ "
   ]
  },
  {
   "attachments": {},
   "cell_type": "markdown",
   "metadata": {},
   "source": [
    "네이버에 있는 야놀자 필터"
   ]
  },
  {
   "cell_type": "code",
   "execution_count": 23,
   "metadata": {},
   "outputs": [
    {
     "name": "stdout",
     "output_type": "stream",
     "text": [
      "1042\n"
     ]
    }
   ],
   "source": [
    "print(len(yanolja_df[yanolja_df['yanolja_pk'].isin(naver_df['naver_pk'])])) # '1148' 개 ㅋ \n",
    "yanolja_in_naver = yanolja_df[yanolja_df['yanolja_pk'].isin(naver_df['naver_pk'])]\n"
   ]
  },
  {
   "cell_type": "code",
   "execution_count": 24,
   "metadata": {},
   "outputs": [],
   "source": [
    "yanolja_in_naver.to_csv(\"../DAOU/yanolja_in_naver.csv\", encoding='euc-kr', index=False)"
   ]
  },
  {
   "cell_type": "code",
   "execution_count": 22,
   "metadata": {},
   "outputs": [
    {
     "name": "stdout",
     "output_type": "stream",
     "text": [
      "<class 'pandas.core.frame.DataFrame'>\n",
      "RangeIndex: 66 entries, 0 to 65\n",
      "Data columns (total 35 columns):\n",
      " #   Column                 Non-Null Count  Dtype  \n",
      "---  ------                 --------------  -----  \n",
      " 0   이름                     66 non-null     object \n",
      " 1   종류                     66 non-null     object \n",
      " 2   평점                     66 non-null     float64\n",
      " 3   숙박가격                   66 non-null     int64  \n",
      " 4   도보시간                   66 non-null     object \n",
      " 5   인기테그                   66 non-null     object \n",
      " 6   별점 높은순 후기              66 non-null     object \n",
      " 7   별점 낮은순 후기              66 non-null     object \n",
      " 8   주소                     66 non-null     object \n",
      " 9   객실수                    57 non-null     object \n",
      " 10  총후기                    66 non-null     int64  \n",
      " 11  대실가격                   20 non-null     float64\n",
      " 12  대실시간                   20 non-null     float64\n",
      " 13  위도                     66 non-null     float64\n",
      " 14  경도                     66 non-null     float64\n",
      " 15  경쟁업소_수(1km내)           66 non-null     int64  \n",
      " 16  경쟁업소_최단거리(1km내)        66 non-null     float64\n",
      " 17  경쟁업소_최장거리(1km내)        65 non-null     float64\n",
      " 18  경쟁업소_평균거리(1km내)        65 non-null     float64\n",
      " 19  버스정류장_수(1km내)          66 non-null     int64  \n",
      " 20  지하철역_수(1km내)           66 non-null     int64  \n",
      " 21  버스정류장_최단거리(1km내)       63 non-null     float64\n",
      " 22  버스정류장_평균거리(1km내)       63 non-null     float64\n",
      " 23  지하철역_최단거리(1km내)        63 non-null     float64\n",
      " 24  지하철역_평균거리(1km내)        63 non-null     float64\n",
      " 25  교통유동인구_월평균승차수(1km내)    66 non-null     float64\n",
      " 26  교통유동인구_월평균하차수(1km내)    66 non-null     float64\n",
      " 27  교통유동인구_월평균승하차총계(1km내)  66 non-null     float64\n",
      " 28  관광지_수(1km내)            66 non-null     int64  \n",
      " 29  쇼핑몰_수(1km내)            66 non-null     int64  \n",
      " 30  관광지_최단거리(1km내)         61 non-null     float64\n",
      " 31  관광지_평균거리(1km내)         61 non-null     float64\n",
      " 32  쇼핑몰_최단거리(1km내)         61 non-null     float64\n",
      " 33  쇼핑몰_평균거리(1km내)         61 non-null     float64\n",
      " 34  yanolja_pk             66 non-null     object \n",
      "dtypes: float64(19), int64(7), object(9)\n",
      "memory usage: 18.2+ KB\n"
     ]
    }
   ],
   "source": [
    "yanolja_in_naver_df = pd.read_csv('../DAOU/yanolja_in_naver.csv', encoding='euc-kr')\n",
    "yanolja_in_naver_df.info()"
   ]
  }
 ],
 "metadata": {
  "kernelspec": {
   "display_name": "Python 3",
   "language": "python",
   "name": "python3"
  },
  "language_info": {
   "codemirror_mode": {
    "name": "ipython",
    "version": 3
   },
   "file_extension": ".py",
   "mimetype": "text/x-python",
   "name": "python",
   "nbconvert_exporter": "python",
   "pygments_lexer": "ipython3",
   "version": "3.8.7"
  },
  "orig_nbformat": 4
 },
 "nbformat": 4,
 "nbformat_minor": 2
}
