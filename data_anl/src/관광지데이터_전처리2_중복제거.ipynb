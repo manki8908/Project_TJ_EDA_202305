{
 "cells": [
  {
   "cell_type": "code",
   "execution_count": 2,
   "metadata": {},
   "outputs": [],
   "source": [
    "import numpy as np\n",
    "import pandas as pd\n",
    "import geopy.distance\n",
    "from tqdm import tqdm"
   ]
  },
  {
   "cell_type": "code",
   "execution_count": 4,
   "metadata": {},
   "outputs": [
    {
     "name": "stdout",
     "output_type": "stream",
     "text": [
      "<class 'pandas.core.frame.DataFrame'>\n",
      "RangeIndex: 1736 entries, 0 to 1735\n",
      "Data columns (total 13 columns):\n",
      " #   Column      Non-Null Count  Dtype  \n",
      "---  ------      --------------  -----  \n",
      " 0   Unnamed: 0  1736 non-null   int64  \n",
      " 1   경도          1736 non-null   float64\n",
      " 2   위도          1736 non-null   float64\n",
      " 3   중심시도명       1736 non-null   object \n",
      " 4   중심시군구명      1736 non-null   object \n",
      " 5   중심관광지명      1736 non-null   object \n",
      " 6   주소          1736 non-null   object \n",
      " 7   중심카테고리 명_대  1736 non-null   object \n",
      " 8   중심카테고리 명_중  1736 non-null   object \n",
      " 9   순위          1736 non-null   int64  \n",
      " 10  가까운 지하철역    1736 non-null   object \n",
      " 11  지하철역과의 거리   1736 non-null   float64\n",
      " 12  도보시간        1736 non-null   float64\n",
      "dtypes: float64(4), int64(2), object(7)\n",
      "memory usage: 176.4+ KB\n"
     ]
    }
   ],
   "source": [
    "df = pd.read_csv('../DAOU/middle_관광지위치_지하철역추가.csv', encoding='euc-kr')\n",
    "df.info()"
   ]
  },
  {
   "cell_type": "code",
   "execution_count": 5,
   "metadata": {},
   "outputs": [],
   "source": [
    "# 키 중복 제거\n",
    "df_p1 = df.drop_duplicates(['주소'])    # 6664 --> 6383"
   ]
  },
  {
   "cell_type": "code",
   "execution_count": 7,
   "metadata": {},
   "outputs": [
    {
     "name": "stdout",
     "output_type": "stream",
     "text": [
      "<class 'pandas.core.frame.DataFrame'>\n",
      "Int64Index: 1145 entries, 0 to 1735\n",
      "Data columns (total 13 columns):\n",
      " #   Column      Non-Null Count  Dtype  \n",
      "---  ------      --------------  -----  \n",
      " 0   Unnamed: 0  1145 non-null   int64  \n",
      " 1   경도          1145 non-null   float64\n",
      " 2   위도          1145 non-null   float64\n",
      " 3   중심시도명       1145 non-null   object \n",
      " 4   중심시군구명      1145 non-null   object \n",
      " 5   중심관광지명      1145 non-null   object \n",
      " 6   주소          1145 non-null   object \n",
      " 7   중심카테고리 명_대  1145 non-null   object \n",
      " 8   중심카테고리 명_중  1145 non-null   object \n",
      " 9   순위          1145 non-null   int64  \n",
      " 10  가까운 지하철역    1145 non-null   object \n",
      " 11  지하철역과의 거리   1145 non-null   float64\n",
      " 12  도보시간        1145 non-null   float64\n",
      "dtypes: float64(4), int64(2), object(7)\n",
      "memory usage: 125.2+ KB\n"
     ]
    }
   ],
   "source": [
    "df_p1.info()"
   ]
  },
  {
   "cell_type": "code",
   "execution_count": 8,
   "metadata": {},
   "outputs": [],
   "source": [
    "df_p1.to_csv('../DAOU/middle_관광지위치_지하철역추가_중복제거.csv', encoding='euc-kr')"
   ]
  }
 ],
 "metadata": {
  "kernelspec": {
   "display_name": "Python 3",
   "language": "python",
   "name": "python3"
  },
  "language_info": {
   "codemirror_mode": {
    "name": "ipython",
    "version": 3
   },
   "file_extension": ".py",
   "mimetype": "text/x-python",
   "name": "python",
   "nbconvert_exporter": "python",
   "pygments_lexer": "ipython3",
   "version": "3.8.7"
  },
  "orig_nbformat": 4
 },
 "nbformat": 4,
 "nbformat_minor": 2
}
