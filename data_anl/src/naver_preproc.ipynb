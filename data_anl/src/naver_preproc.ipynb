{
 "cells": [
  {
   "attachments": {},
   "cell_type": "markdown",
   "metadata": {},
   "source": [
    "네이버 전처리\n",
    "1. DB 구축을 위한 primary 키 삽입 string(위도, 경도)\n",
    "2. 중복제거(사업장명, 위도, 경도)\n",
    "3. primary key nan제거"
   ]
  },
  {
   "cell_type": "code",
   "execution_count": 44,
   "metadata": {},
   "outputs": [],
   "source": [
    "import pandas as pd\n",
    "import numpy as np\n",
    "import re\n",
    "import os"
   ]
  },
  {
   "cell_type": "code",
   "execution_count": 45,
   "metadata": {},
   "outputs": [],
   "source": [
    "naver_df = pd.read_csv('../../naver_crw/DAOU/test_large_out_v3.csv', index_col=0, encoding='euc-kr')"
   ]
  },
  {
   "cell_type": "code",
   "execution_count": 46,
   "metadata": {},
   "outputs": [
    {
     "name": "stdout",
     "output_type": "stream",
     "text": [
      "<class 'pandas.core.frame.DataFrame'>\n",
      "Int64Index: 6664 entries, 0 to 6663\n",
      "Data columns (total 27 columns):\n",
      " #   Column                  Non-Null Count  Dtype  \n",
      "---  ------                  --------------  -----  \n",
      " 0   사업장명                    6664 non-null   object \n",
      " 1   업소유형                    874 non-null    object \n",
      " 2   업태구분명                   6664 non-null   object \n",
      " 3   지번주소                    6653 non-null   object \n",
      " 4   도로명주소                   3986 non-null   object \n",
      " 5   가까운 지하철역                5774 non-null   object \n",
      " 6   지하철역과의 거리               6664 non-null   float64\n",
      " 7   도보시간                    6664 non-null   float64\n",
      " 8   위도                      5774 non-null   float64\n",
      " 9   경도                      5774 non-null   float64\n",
      " 10  별점                      310 non-null    float64\n",
      " 11  방문자 리뷰수                 685 non-null    object \n",
      " 12  블로그 리뷰수                 513 non-null    object \n",
      " 13  한실수                     5434 non-null   float64\n",
      " 14  양실수                     5347 non-null   float64\n",
      " 15  욕실수                     4813 non-null   float64\n",
      " 16  구비시설                    107 non-null    object \n",
      " 17  네이버 이런점이 좋아요 총합         191 non-null    float64\n",
      " 18  네이버 이런점이 좋아요 {항목:좋아요수}  191 non-null    object \n",
      " 19  데이터갱신일자                 6664 non-null   object \n",
      " 20  인허가일자                   6664 non-null   object \n",
      " 21  인허가취소일자                 0 non-null      float64\n",
      " 22  영업상태코드                  6664 non-null   int64  \n",
      " 23  폐업일자                    4173 non-null   object \n",
      " 24  휴업시작일자                  0 non-null      float64\n",
      " 25  휴업종료일자                  0 non-null      float64\n",
      " 26  재개업일자                   0 non-null      float64\n",
      "dtypes: float64(13), int64(1), object(13)\n",
      "memory usage: 1.4+ MB\n",
      "None\n",
      "<class 'pandas.core.frame.DataFrame'>\n",
      "Int64Index: 6664 entries, 0 to 6663\n",
      "Data columns (total 27 columns):\n",
      " #   Column                  Non-Null Count  Dtype  \n",
      "---  ------                  --------------  -----  \n",
      " 0   사업장명                    6664 non-null   object \n",
      " 1   업소유형                    874 non-null    object \n",
      " 2   업태구분명                   6664 non-null   object \n",
      " 3   지번주소                    6653 non-null   object \n",
      " 4   도로명주소                   3986 non-null   object \n",
      " 5   가까운 지하철역                5774 non-null   object \n",
      " 6   지하철역과의 거리               6664 non-null   float64\n",
      " 7   도보시간                    6664 non-null   float64\n",
      " 8   위도                      5774 non-null   float64\n",
      " 9   경도                      5774 non-null   float64\n",
      " 10  별점                      310 non-null    float64\n",
      " 11  방문자 리뷰수                 685 non-null    object \n",
      " 12  블로그 리뷰수                 513 non-null    object \n",
      " 13  한실수                     5434 non-null   float64\n",
      " 14  양실수                     5347 non-null   float64\n",
      " 15  욕실수                     4813 non-null   float64\n",
      " 16  구비시설                    107 non-null    object \n",
      " 17  네이버 이런점이 좋아요 총합         191 non-null    float64\n",
      " 18  네이버 이런점이 좋아요 {항목:좋아요수}  191 non-null    object \n",
      " 19  데이터갱신일자                 6664 non-null   object \n",
      " 20  인허가일자                   6664 non-null   object \n",
      " 21  인허가취소일자                 0 non-null      float64\n",
      " 22  영업상태코드                  6664 non-null   int64  \n",
      " 23  폐업일자                    4173 non-null   object \n",
      " 24  휴업시작일자                  0 non-null      float64\n",
      " 25  휴업종료일자                  0 non-null      float64\n",
      " 26  재개업일자                   0 non-null      float64\n",
      "dtypes: float64(13), int64(1), object(13)\n",
      "memory usage: 1.4+ MB\n"
     ]
    }
   ],
   "source": [
    "print(naver_df.info())\n",
    "naver_df.info()"
   ]
  },
  {
   "cell_type": "code",
   "execution_count": 114,
   "metadata": {},
   "outputs": [],
   "source": [
    "# 프라이머리 키 생성\n",
    "for i in range(naver_df.shape[0]):\n",
    "    if pd.isnull(naver_df['위도'][i]) and pd.isnull(naver_df['경도'][i]):\n",
    "        naver_df['naver_pk'][i] = np.nan\n",
    "    else:        \n",
    "        naver_df['naver_pk'][i] = f\"{naver_df['위도'][i]:.10f}, {naver_df['경도'][i]:.10f}\"   \n",
    "\n"
   ]
  },
  {
   "cell_type": "code",
   "execution_count": 140,
   "metadata": {},
   "outputs": [
    {
     "name": "stdout",
     "output_type": "stream",
     "text": [
      "중복 개수 142, nan 개수 890\n",
      "142 5439 6664\n"
     ]
    }
   ],
   "source": [
    "# .. 위경도 프라이머리키로 중복 제거\n",
    "# 중복 개수 확인\n",
    "df_temp1 = naver_df.groupby(['naver_pk'])['도로명주소'].count().reset_index(name='호실개수')\n",
    "duplicate_name = df_temp1[df_temp1.호실개수 >= 2] # 21개\n",
    "duplicate_name\n",
    "num_nankey = len(naver_df[pd.isna(naver_df['naver_pk'])])\n",
    "print(f'중복 개수 {len(duplicate_name)}, nan 개수 {num_nankey}')\n",
    "\n",
    "naver_df_p1 = naver_df.drop_duplicates(['naver_pk'])    # 6664 --> 6383\n",
    "print(len(duplicate_name), naver_df_p1.shape[0], naver_df.shape[0])"
   ]
  },
  {
   "cell_type": "code",
   "execution_count": 141,
   "metadata": {},
   "outputs": [],
   "source": [
    "naver_df_p1.to_csv(\"../DAOU/naver.csv\", encoding='euc-kr', index=False)"
   ]
  }
 ],
 "metadata": {
  "kernelspec": {
   "display_name": "Python 3",
   "language": "python",
   "name": "python3"
  },
  "language_info": {
   "codemirror_mode": {
    "name": "ipython",
    "version": 3
   },
   "file_extension": ".py",
   "mimetype": "text/x-python",
   "name": "python",
   "nbconvert_exporter": "python",
   "pygments_lexer": "ipython3",
   "version": "3.8.7"
  },
  "orig_nbformat": 4
 },
 "nbformat": 4,
 "nbformat_minor": 2
}
