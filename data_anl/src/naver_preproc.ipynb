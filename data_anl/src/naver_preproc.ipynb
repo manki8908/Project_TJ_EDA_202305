{
 "cells": [
  {
   "attachments": {},
   "cell_type": "markdown",
   "metadata": {},
   "source": [
    "네이버 전처리\n",
    "1. DB 구축을 위한 primary 키 삽입 string(위도, 경도)\n",
    "2. 중복제거(사업장명, 위도, 경도)\n",
    "3. primary key nan제거"
   ]
  },
  {
   "cell_type": "code",
   "execution_count": 2,
   "metadata": {},
   "outputs": [],
   "source": [
    "import pandas as pd\n",
    "import numpy as np\n",
    "import re\n",
    "import os"
   ]
  },
  {
   "cell_type": "code",
   "execution_count": 3,
   "metadata": {},
   "outputs": [],
   "source": [
    "naver_df = pd.read_csv('../../naver_crw/DAOU/test_large_out_v3.csv', index_col=0, encoding='euc-kr')"
   ]
  },
  {
   "cell_type": "code",
   "execution_count": 4,
   "metadata": {},
   "outputs": [
    {
     "name": "stdout",
     "output_type": "stream",
     "text": [
      "<class 'pandas.core.frame.DataFrame'>\n",
      "Int64Index: 6664 entries, 0 to 6663\n",
      "Data columns (total 27 columns):\n",
      " #   Column                  Non-Null Count  Dtype  \n",
      "---  ------                  --------------  -----  \n",
      " 0   사업장명                    6664 non-null   object \n",
      " 1   업소유형                    874 non-null    object \n",
      " 2   업태구분명                   6664 non-null   object \n",
      " 3   지번주소                    6653 non-null   object \n",
      " 4   도로명주소                   3986 non-null   object \n",
      " 5   가까운 지하철역                5774 non-null   object \n",
      " 6   지하철역과의 거리               6664 non-null   float64\n",
      " 7   도보시간                    6664 non-null   float64\n",
      " 8   위도                      5774 non-null   float64\n",
      " 9   경도                      5774 non-null   float64\n",
      " 10  별점                      310 non-null    float64\n",
      " 11  방문자 리뷰수                 685 non-null    object \n",
      " 12  블로그 리뷰수                 513 non-null    object \n",
      " 13  한실수                     5434 non-null   float64\n",
      " 14  양실수                     5347 non-null   float64\n",
      " 15  욕실수                     4813 non-null   float64\n",
      " 16  구비시설                    107 non-null    object \n",
      " 17  네이버 이런점이 좋아요 총합         191 non-null    float64\n",
      " 18  네이버 이런점이 좋아요 {항목:좋아요수}  191 non-null    object \n",
      " 19  데이터갱신일자                 6664 non-null   object \n",
      " 20  인허가일자                   6664 non-null   object \n",
      " 21  인허가취소일자                 0 non-null      float64\n",
      " 22  영업상태코드                  6664 non-null   int64  \n",
      " 23  폐업일자                    4173 non-null   object \n",
      " 24  휴업시작일자                  0 non-null      float64\n",
      " 25  휴업종료일자                  0 non-null      float64\n",
      " 26  재개업일자                   0 non-null      float64\n",
      "dtypes: float64(13), int64(1), object(13)\n",
      "memory usage: 1.4+ MB\n",
      "None\n",
      "<class 'pandas.core.frame.DataFrame'>\n",
      "Int64Index: 6664 entries, 0 to 6663\n",
      "Data columns (total 27 columns):\n",
      " #   Column                  Non-Null Count  Dtype  \n",
      "---  ------                  --------------  -----  \n",
      " 0   사업장명                    6664 non-null   object \n",
      " 1   업소유형                    874 non-null    object \n",
      " 2   업태구분명                   6664 non-null   object \n",
      " 3   지번주소                    6653 non-null   object \n",
      " 4   도로명주소                   3986 non-null   object \n",
      " 5   가까운 지하철역                5774 non-null   object \n",
      " 6   지하철역과의 거리               6664 non-null   float64\n",
      " 7   도보시간                    6664 non-null   float64\n",
      " 8   위도                      5774 non-null   float64\n",
      " 9   경도                      5774 non-null   float64\n",
      " 10  별점                      310 non-null    float64\n",
      " 11  방문자 리뷰수                 685 non-null    object \n",
      " 12  블로그 리뷰수                 513 non-null    object \n",
      " 13  한실수                     5434 non-null   float64\n",
      " 14  양실수                     5347 non-null   float64\n",
      " 15  욕실수                     4813 non-null   float64\n",
      " 16  구비시설                    107 non-null    object \n",
      " 17  네이버 이런점이 좋아요 총합         191 non-null    float64\n",
      " 18  네이버 이런점이 좋아요 {항목:좋아요수}  191 non-null    object \n",
      " 19  데이터갱신일자                 6664 non-null   object \n",
      " 20  인허가일자                   6664 non-null   object \n",
      " 21  인허가취소일자                 0 non-null      float64\n",
      " 22  영업상태코드                  6664 non-null   int64  \n",
      " 23  폐업일자                    4173 non-null   object \n",
      " 24  휴업시작일자                  0 non-null      float64\n",
      " 25  휴업종료일자                  0 non-null      float64\n",
      " 26  재개업일자                   0 non-null      float64\n",
      "dtypes: float64(13), int64(1), object(13)\n",
      "memory usage: 1.4+ MB\n"
     ]
    }
   ],
   "source": [
    "print(naver_df.info())\n",
    "naver_df.info()"
   ]
  },
  {
   "cell_type": "code",
   "execution_count": null,
   "metadata": {},
   "outputs": [],
   "source": [
    "naver_df.head()"
   ]
  },
  {
   "cell_type": "code",
   "execution_count": 6,
   "metadata": {},
   "outputs": [
    {
     "name": "stderr",
     "output_type": "stream",
     "text": [
      "C:\\Users\\tjoeun\\AppData\\Local\\Temp\\ipykernel_2400\\1959696260.py:7: SettingWithCopyWarning: \n",
      "A value is trying to be set on a copy of a slice from a DataFrame\n",
      "\n",
      "See the caveats in the documentation: https://pandas.pydata.org/pandas-docs/stable/user_guide/indexing.html#returning-a-view-versus-a-copy\n",
      "  naver_df['naver_pk'][i] = f\"{naver_df['위도'][i]:.10f}, {naver_df['경도'][i]:.10f}\"\n"
     ]
    }
   ],
   "source": [
    "# 프라이머리 키 생성\n",
    "naver_df['naver_pk'] = np.nan\n",
    "for i in range(naver_df.shape[0]):\n",
    "    if pd.isnull(naver_df['위도'][i]) and pd.isnull(naver_df['경도'][i]):\n",
    "        naver_df['naver_pk'][i] = np.nan\n",
    "    else:        \n",
    "        naver_df['naver_pk'][i] = f\"{naver_df['위도'][i]:.10f}, {naver_df['경도'][i]:.10f}\"   \n",
    "\n"
   ]
  },
  {
   "cell_type": "code",
   "execution_count": 14,
   "metadata": {},
   "outputs": [
    {
     "name": "stdout",
     "output_type": "stream",
     "text": [
      "중복 개수 142, nan 개수 890\n",
      "142 5439 6664\n"
     ]
    },
    {
     "name": "stderr",
     "output_type": "stream",
     "text": [
      "C:\\Users\\tjoeun\\AppData\\Local\\Temp\\ipykernel_2400\\4206036427.py:14: SettingWithCopyWarning: \n",
      "A value is trying to be set on a copy of a slice from a DataFrame\n",
      "\n",
      "See the caveats in the documentation: https://pandas.pydata.org/pandas-docs/stable/user_guide/indexing.html#returning-a-view-versus-a-copy\n",
      "  naver_df_p1.dropna(axis=0, subset=['naver_pk'], inplace=True)\n"
     ]
    }
   ],
   "source": [
    "# .. 위경도 프라이머리키로 중복 제거\n",
    "# 중복 개수 확인\n",
    "df_temp1 = naver_df.groupby(['naver_pk'])['도로명주소'].count().reset_index(name='호실개수')\n",
    "duplicate_name = df_temp1[df_temp1.호실개수 >= 2] # 21개\n",
    "duplicate_name\n",
    "num_nankey = len(naver_df[pd.isna(naver_df['naver_pk'])])\n",
    "print(f'중복 개수 {len(duplicate_name)}, nan 개수 {num_nankey}')\n",
    "\n",
    "# 키 중복 제거\n",
    "naver_df_p1 = naver_df.drop_duplicates(['naver_pk'])    # 6664 --> 6383\n",
    "print(len(duplicate_name), naver_df_p1.shape[0], naver_df.shape[0])\n",
    "\n",
    "# 이름으로 중복있는데 하나는 nan이여서 제거 안된것 제거\n",
    "naver_df_p1.dropna(axis=0, subset=['naver_pk'], inplace=True)"
   ]
  },
  {
   "cell_type": "code",
   "execution_count": 15,
   "metadata": {},
   "outputs": [
    {
     "data": {
      "text/html": [
       "<div>\n",
       "<style scoped>\n",
       "    .dataframe tbody tr th:only-of-type {\n",
       "        vertical-align: middle;\n",
       "    }\n",
       "\n",
       "    .dataframe tbody tr th {\n",
       "        vertical-align: top;\n",
       "    }\n",
       "\n",
       "    .dataframe thead th {\n",
       "        text-align: right;\n",
       "    }\n",
       "</style>\n",
       "<table border=\"1\" class=\"dataframe\">\n",
       "  <thead>\n",
       "    <tr style=\"text-align: right;\">\n",
       "      <th></th>\n",
       "      <th>사업장명</th>\n",
       "      <th>업소유형</th>\n",
       "      <th>업태구분명</th>\n",
       "      <th>지번주소</th>\n",
       "      <th>도로명주소</th>\n",
       "      <th>가까운 지하철역</th>\n",
       "      <th>지하철역과의 거리</th>\n",
       "      <th>도보시간</th>\n",
       "      <th>위도</th>\n",
       "      <th>경도</th>\n",
       "      <th>...</th>\n",
       "      <th>네이버 이런점이 좋아요 {항목:좋아요수}</th>\n",
       "      <th>데이터갱신일자</th>\n",
       "      <th>인허가일자</th>\n",
       "      <th>인허가취소일자</th>\n",
       "      <th>영업상태코드</th>\n",
       "      <th>폐업일자</th>\n",
       "      <th>휴업시작일자</th>\n",
       "      <th>휴업종료일자</th>\n",
       "      <th>재개업일자</th>\n",
       "      <th>naver_pk</th>\n",
       "    </tr>\n",
       "  </thead>\n",
       "  <tbody>\n",
       "    <tr>\n",
       "      <th>2269</th>\n",
       "      <td>삼보장</td>\n",
       "      <td>NaN</td>\n",
       "      <td>여관업</td>\n",
       "      <td>서울특별시 동대문구 답십리동 99-9번지 (전답3길16)</td>\n",
       "      <td>NaN</td>\n",
       "      <td>답십리, 5호선</td>\n",
       "      <td>884.759247</td>\n",
       "      <td>13.264756</td>\n",
       "      <td>37.573912</td>\n",
       "      <td>127.057093</td>\n",
       "      <td>...</td>\n",
       "      <td>NaN</td>\n",
       "      <td>2018-08-31 23:59:59.0</td>\n",
       "      <td>19850503</td>\n",
       "      <td>NaN</td>\n",
       "      <td>3</td>\n",
       "      <td>20081021</td>\n",
       "      <td>NaN</td>\n",
       "      <td>NaN</td>\n",
       "      <td>NaN</td>\n",
       "      <td>37.5739124408, 127.0570928450</td>\n",
       "    </tr>\n",
       "  </tbody>\n",
       "</table>\n",
       "<p>1 rows × 28 columns</p>\n",
       "</div>"
      ],
      "text/plain": [
       "     사업장명 업소유형 업태구분명                              지번주소 도로명주소  가까운 지하철역  \\\n",
       "2269  삼보장  NaN   여관업  서울특별시 동대문구 답십리동 99-9번지 (전답3길16)    NaN  답십리, 5호선   \n",
       "\n",
       "       지하철역과의 거리       도보시간         위도          경도  ...  \\\n",
       "2269  884.759247  13.264756  37.573912  127.057093  ...   \n",
       "\n",
       "      네이버 이런점이 좋아요 {항목:좋아요수}                데이터갱신일자     인허가일자  인허가취소일자  \\\n",
       "2269                     NaN  2018-08-31 23:59:59.0  19850503      NaN   \n",
       "\n",
       "      영업상태코드      폐업일자 휴업시작일자  휴업종료일자 재개업일자                       naver_pk  \n",
       "2269       3  20081021    NaN     NaN   NaN  37.5739124408, 127.0570928450  \n",
       "\n",
       "[1 rows x 28 columns]"
      ]
     },
     "execution_count": 15,
     "metadata": {},
     "output_type": "execute_result"
    }
   ],
   "source": [
    "naver_df_p1[naver_df_p1['사업장명'] == \"삼보장\"]"
   ]
  },
  {
   "cell_type": "code",
   "execution_count": 16,
   "metadata": {},
   "outputs": [],
   "source": [
    "naver_df_p1.to_csv(\"../DAOU/naver.csv\", encoding='euc-kr', index=False)"
   ]
  }
 ],
 "metadata": {
  "kernelspec": {
   "display_name": "Python 3",
   "language": "python",
   "name": "python3"
  },
  "language_info": {
   "codemirror_mode": {
    "name": "ipython",
    "version": 3
   },
   "file_extension": ".py",
   "mimetype": "text/x-python",
   "name": "python",
   "nbconvert_exporter": "python",
   "pygments_lexer": "ipython3",
   "version": "3.8.7"
  },
  "orig_nbformat": 4
 },
 "nbformat": 4,
 "nbformat_minor": 2
}
