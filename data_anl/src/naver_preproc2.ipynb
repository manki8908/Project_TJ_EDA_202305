{
 "cells": [
  {
   "cell_type": "code",
   "execution_count": 1,
   "metadata": {},
   "outputs": [],
   "source": [
    "import pandas as pd\n",
    "import numpy as np\n",
    "import seaborn as sns\n",
    "\n",
    "\n",
    "import matplotlib.pyplot as plt\n",
    "import matplotlib as mpl\n",
    "# from matplotlib import rcParams\n",
    "# rcParams['font.family'] = 'Malgun Gothic'\n",
    "plt.rc('font', family='Malgun Gothic')\n",
    "#plt.rc('font', family='AppleGothic')\n",
    "plt.rcParams['axes.unicode_minus'] = False\n",
    "\n",
    "import scipy\n",
    "\n",
    "from datetime import datetime\n",
    "\n",
    "sns.set(font=\"AppleGothic\", \n",
    "        rc={\"axes.unicode_minus\":False},\n",
    "        style='darkgrid')\n"
   ]
  },
  {
   "cell_type": "code",
   "execution_count": 2,
   "metadata": {},
   "outputs": [
    {
     "name": "stdout",
     "output_type": "stream",
     "text": [
      "c:\\Python38\\lib\\site-packages\\matplotlib\\mpl-data\\matplotlibrc\n",
      "c:\\Python38\\lib\\site-packages\\matplotlib\\__init__.py\n"
     ]
    }
   ],
   "source": [
    "print(mpl.matplotlib_fname())\n",
    "print(mpl.__file__)"
   ]
  },
  {
   "cell_type": "code",
   "execution_count": 3,
   "metadata": {},
   "outputs": [
    {
     "data": {
      "text/plain": [
       "[False]"
      ]
     },
     "execution_count": 3,
     "metadata": {},
     "output_type": "execute_result"
    }
   ],
   "source": [
    "import matplotlib.font_manager as fm\n",
    "f = [f.name for f in fm.fontManager.ttflist]\n",
    "[\"NanumGothic\" in f]"
   ]
  },
  {
   "cell_type": "code",
   "execution_count": 4,
   "metadata": {},
   "outputs": [],
   "source": [
    "naver_df = pd.read_csv('../DAOU/naver.csv', encoding='euc-kr')"
   ]
  },
  {
   "cell_type": "code",
   "execution_count": 5,
   "metadata": {},
   "outputs": [
    {
     "name": "stdout",
     "output_type": "stream",
     "text": [
      "<class 'pandas.core.frame.DataFrame'>\n",
      "RangeIndex: 5438 entries, 0 to 5437\n",
      "Data columns (total 28 columns):\n",
      " #   Column                  Non-Null Count  Dtype  \n",
      "---  ------                  --------------  -----  \n",
      " 0   사업장명                    5438 non-null   object \n",
      " 1   업소유형                    852 non-null    object \n",
      " 2   업태구분명                   5438 non-null   object \n",
      " 3   지번주소                    5427 non-null   object \n",
      " 4   도로명주소                   3713 non-null   object \n",
      " 5   가까운 지하철역                5438 non-null   object \n",
      " 6   지하철역과의 거리               5438 non-null   float64\n",
      " 7   도보시간                    5438 non-null   float64\n",
      " 8   위도                      5438 non-null   float64\n",
      " 9   경도                      5438 non-null   float64\n",
      " 10  별점                      297 non-null    float64\n",
      " 11  방문자 리뷰수                 666 non-null    object \n",
      " 12  블로그 리뷰수                 496 non-null    object \n",
      " 13  한실수                     4371 non-null   float64\n",
      " 14  양실수                     4347 non-null   float64\n",
      " 15  욕실수                     3953 non-null   float64\n",
      " 16  구비시설                    100 non-null    object \n",
      " 17  네이버 이런점이 좋아요 총합         183 non-null    float64\n",
      " 18  네이버 이런점이 좋아요 {항목:좋아요수}  183 non-null    object \n",
      " 19  데이터갱신일자                 5438 non-null   object \n",
      " 20  인허가일자                   5438 non-null   object \n",
      " 21  인허가취소일자                 0 non-null      float64\n",
      " 22  영업상태코드                  5438 non-null   int64  \n",
      " 23  폐업일자                    3023 non-null   object \n",
      " 24  휴업시작일자                  0 non-null      float64\n",
      " 25  휴업종료일자                  0 non-null      float64\n",
      " 26  재개업일자                   0 non-null      float64\n",
      " 27  naver_pk                5438 non-null   object \n",
      "dtypes: float64(13), int64(1), object(14)\n",
      "memory usage: 1.2+ MB\n"
     ]
    },
    {
     "data": {
      "text/plain": [
       "Index(['사업장명', '업소유형', '업태구분명', '지번주소', '도로명주소', '가까운 지하철역', '지하철역과의 거리',\n",
       "       '도보시간', '위도', '경도', '별점', '방문자 리뷰수', '블로그 리뷰수', '한실수', '양실수', '욕실수',\n",
       "       '구비시설', '네이버 이런점이 좋아요 총합', '네이버 이런점이 좋아요 {항목:좋아요수}', '데이터갱신일자', '인허가일자',\n",
       "       '인허가취소일자', '영업상태코드', '폐업일자', '휴업시작일자', '휴업종료일자', '재개업일자', 'naver_pk'],\n",
       "      dtype='object')"
      ]
     },
     "execution_count": 5,
     "metadata": {},
     "output_type": "execute_result"
    }
   ],
   "source": [
    "naver_df.info()\n",
    "naver_df.columns"
   ]
  },
  {
   "cell_type": "code",
   "execution_count": 6,
   "metadata": {},
   "outputs": [
    {
     "name": "stderr",
     "output_type": "stream",
     "text": [
      "C:\\Users\\tjoeun\\AppData\\Local\\Temp\\ipykernel_1352\\605929664.py:28: SettingWithCopyWarning: \n",
      "A value is trying to be set on a copy of a slice from a DataFrame\n",
      "\n",
      "See the caveats in the documentation: https://pandas.pydata.org/pandas-docs/stable/user_guide/indexing.html#returning-a-view-versus-a-copy\n",
      "  naver_df['운영기간'][i] = (naver_df['폐업일자'][i] - naver_df['인허가일자'][i]).days\n",
      "C:\\Users\\tjoeun\\AppData\\Local\\Temp\\ipykernel_1352\\605929664.py:26: SettingWithCopyWarning: \n",
      "A value is trying to be set on a copy of a slice from a DataFrame\n",
      "\n",
      "See the caveats in the documentation: https://pandas.pydata.org/pandas-docs/stable/user_guide/indexing.html#returning-a-view-versus-a-copy\n",
      "  naver_df['운영기간'][i] = (cur_date - naver_df['인허가일자'][i]).days\n"
     ]
    },
    {
     "name": "stdout",
     "output_type": "stream",
     "text": [
      "<class 'pandas.core.frame.DataFrame'>\n",
      "RangeIndex: 5438 entries, 0 to 5437\n",
      "Data columns (total 32 columns):\n",
      " #   Column                  Non-Null Count  Dtype         \n",
      "---  ------                  --------------  -----         \n",
      " 0   사업장명                    5438 non-null   object        \n",
      " 1   업소유형                    852 non-null    object        \n",
      " 2   업태구분명                   5438 non-null   object        \n",
      " 3   지번주소                    5427 non-null   object        \n",
      " 4   도로명주소                   3713 non-null   object        \n",
      " 5   가까운 지하철역                5438 non-null   object        \n",
      " 6   지하철역과의 거리               5438 non-null   float64       \n",
      " 7   도보시간                    5438 non-null   float64       \n",
      " 8   위도                      5438 non-null   float64       \n",
      " 9   경도                      5438 non-null   float64       \n",
      " 10  별점                      297 non-null    float64       \n",
      " 11  방문자 리뷰수                 666 non-null    float64       \n",
      " 12  블로그 리뷰수                 496 non-null    float64       \n",
      " 13  한실수                     4371 non-null   float64       \n",
      " 14  양실수                     4347 non-null   float64       \n",
      " 15  욕실수                     3953 non-null   float64       \n",
      " 16  구비시설                    100 non-null    object        \n",
      " 17  네이버 이런점이 좋아요 총합         183 non-null    float64       \n",
      " 18  네이버 이런점이 좋아요 {항목:좋아요수}  183 non-null    object        \n",
      " 19  데이터갱신일자                 5438 non-null   object        \n",
      " 20  인허가일자                   5438 non-null   datetime64[ns]\n",
      " 21  인허가취소일자                 0 non-null      float64       \n",
      " 22  영업상태코드                  5438 non-null   int64         \n",
      " 23  폐업일자                    3023 non-null   datetime64[ns]\n",
      " 24  휴업시작일자                  0 non-null      float64       \n",
      " 25  휴업종료일자                  0 non-null      float64       \n",
      " 26  재개업일자                   0 non-null      float64       \n",
      " 27  naver_pk                5438 non-null   object        \n",
      " 28  리뷰수                     449 non-null    float64       \n",
      " 29  객실수                     4065 non-null   float64       \n",
      " 30  구비시설 개수                 100 non-null    float64       \n",
      " 31  운영기간                    3023 non-null   float64       \n",
      "dtypes: datetime64[ns](2), float64(19), int64(1), object(10)\n",
      "memory usage: 1.3+ MB\n"
     ]
    }
   ],
   "source": [
    "# .. 타입변경\n",
    "# 방문자, 블로그 리뷰수 실수화\n",
    "naver_df['방문자 리뷰수'].replace(',','', inplace=True, regex=True)\n",
    "naver_df['블로그 리뷰수'].replace(',','', inplace=True, regex=True)\n",
    "naver_df['방문자 리뷰수'] = naver_df['방문자 리뷰수'].astype(float)\n",
    "naver_df['블로그 리뷰수'] = naver_df['블로그 리뷰수'].astype(float)\n",
    "naver_df['리뷰수'] = naver_df['방문자 리뷰수'] + naver_df['블로그 리뷰수']\n",
    "\n",
    "# .. 파생변수 생성\n",
    "# 객실수 = 한실수 + 양실수\n",
    "naver_df['객실수'] = naver_df['양실수'] + naver_df['한실수']\n",
    "\n",
    "# 구비시설개수 = 구비시설 count\n",
    "naver_df['구비시설'] = naver_df['구비시설'].str.split(\",\")\n",
    "naver_df['구비시설 개수'] = naver_df['구비시설'].str.len()\n",
    "\n",
    "# 운영기간 = 현재일 - 인허가 일자 or 폐업일 - 인허가 일자\n",
    "naver_df['인허가일자'].replace('-','', inplace=True, regex=True)\n",
    "naver_df['폐업일자'].replace('-','', inplace=True, regex=True)\n",
    "naver_df['인허가일자'] = pd.to_datetime(naver_df['인허가일자'])\n",
    "naver_df['폐업일자'] = pd.to_datetime(naver_df['폐업일자'])\n",
    "naver_df['운영기간'] = np.nan\n",
    "cur_date = pd.to_datetime('20230501')\n",
    "for i in range(naver_df.shape[0]):\n",
    "    if (pd.isna(naver_df['폐업일자'][i]) == False):\n",
    "        naver_df['운영기간'][i] = (cur_date - naver_df['인허가일자'][i]).days\n",
    "    else:\n",
    "        naver_df['운영기간'][i] = (naver_df['폐업일자'][i] - naver_df['인허가일자'][i]).days\n",
    "\n",
    "naver_df.info()\n"
   ]
  },
  {
   "cell_type": "code",
   "execution_count": 7,
   "metadata": {},
   "outputs": [],
   "source": [
    "naver_df.to_csv(\"../DAOU/naver2.csv\", encoding='euc-kr', index=False)"
   ]
  },
  {
   "cell_type": "code",
   "execution_count": 8,
   "metadata": {},
   "outputs": [
    {
     "name": "stdout",
     "output_type": "stream",
     "text": [
      "<class 'pandas.core.frame.DataFrame'>\n",
      "RangeIndex: 5438 entries, 0 to 5437\n",
      "Data columns (total 32 columns):\n",
      " #   Column                  Non-Null Count  Dtype         \n",
      "---  ------                  --------------  -----         \n",
      " 0   사업장명                    5438 non-null   object        \n",
      " 1   업소유형                    852 non-null    object        \n",
      " 2   업태구분명                   5438 non-null   object        \n",
      " 3   지번주소                    5427 non-null   object        \n",
      " 4   도로명주소                   3713 non-null   object        \n",
      " 5   가까운 지하철역                5438 non-null   object        \n",
      " 6   지하철역과의 거리               5438 non-null   float64       \n",
      " 7   도보시간                    5438 non-null   float64       \n",
      " 8   위도                      5438 non-null   float64       \n",
      " 9   경도                      5438 non-null   float64       \n",
      " 10  별점                      297 non-null    float64       \n",
      " 11  방문자 리뷰수                 666 non-null    float64       \n",
      " 12  블로그 리뷰수                 496 non-null    float64       \n",
      " 13  한실수                     4371 non-null   float64       \n",
      " 14  양실수                     4347 non-null   float64       \n",
      " 15  욕실수                     3953 non-null   float64       \n",
      " 16  구비시설                    100 non-null    object        \n",
      " 17  네이버 이런점이 좋아요 총합         183 non-null    float64       \n",
      " 18  네이버 이런점이 좋아요 {항목:좋아요수}  183 non-null    object        \n",
      " 19  데이터갱신일자                 5438 non-null   object        \n",
      " 20  인허가일자                   5438 non-null   datetime64[ns]\n",
      " 21  인허가취소일자                 0 non-null      float64       \n",
      " 22  영업상태코드                  5438 non-null   int64         \n",
      " 23  폐업일자                    3023 non-null   datetime64[ns]\n",
      " 24  휴업시작일자                  0 non-null      float64       \n",
      " 25  휴업종료일자                  0 non-null      float64       \n",
      " 26  재개업일자                   0 non-null      float64       \n",
      " 27  naver_pk                5438 non-null   object        \n",
      " 28  리뷰수                     449 non-null    float64       \n",
      " 29  객실수                     4065 non-null   float64       \n",
      " 30  구비시설 개수                 100 non-null    float64       \n",
      " 31  운영기간                    3023 non-null   float64       \n",
      "dtypes: datetime64[ns](2), float64(19), int64(1), object(10)\n",
      "memory usage: 1.3+ MB\n"
     ]
    }
   ],
   "source": [
    "naver_df.info()"
   ]
  }
 ],
 "metadata": {
  "kernelspec": {
   "display_name": "Python 3",
   "language": "python",
   "name": "python3"
  },
  "language_info": {
   "codemirror_mode": {
    "name": "ipython",
    "version": 3
   },
   "file_extension": ".py",
   "mimetype": "text/x-python",
   "name": "python",
   "nbconvert_exporter": "python",
   "pygments_lexer": "ipython3",
   "version": "3.8.7"
  },
  "orig_nbformat": 4
 },
 "nbformat": 4,
 "nbformat_minor": 2
}
