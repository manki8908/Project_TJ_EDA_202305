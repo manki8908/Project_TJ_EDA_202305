{
 "cells": [
  {
   "cell_type": "code",
   "execution_count": 1,
   "metadata": {},
   "outputs": [],
   "source": [
    "import requests # 온라인으로 보내거나 받아올 때 사용, 파이썬으로 웹사이트 연동할 때\n",
    "from urllib.parse import quote # url에서 한글 코드를 변환\n",
    "import numpy as np"
   ]
  },
  {
   "cell_type": "code",
   "execution_count": 5,
   "metadata": {},
   "outputs": [],
   "source": [
    "filename = 'C:/Users/tjoeun/Desktop/수업자료/수업_실습/API/카카오API.txt'\n",
    "with open(filename) as f:\n",
    "    api_key = f.read().strip()"
   ]
  },
  {
   "cell_type": "code",
   "execution_count": 28,
   "metadata": {},
   "outputs": [],
   "source": [
    "#temp = '서울특별시 중구 인현동1가 158'\n",
    "temp = '서울특별시 중구 충무로 24, 3~17층 (인현동1가)'\n",
    "search_url = 'https://dapi.kakao.com/v2/local/search/address.json'\n",
    "url = f'{search_url}?query={temp}'\n",
    "result = requests.get(url, headers={\"Authorization\": f'KakaoAK {api_key}'}).json()"
   ]
  },
  {
   "cell_type": "code",
   "execution_count": 29,
   "metadata": {},
   "outputs": [
    {
     "name": "stdout",
     "output_type": "stream",
     "text": [
      "{'documents': [], 'meta': {'is_end': True, 'pageable_count': 0, 'total_count': 0}}\n"
     ]
    }
   ],
   "source": [
    "print(result)"
   ]
  },
  {
   "cell_type": "code",
   "execution_count": 27,
   "metadata": {},
   "outputs": [
    {
     "name": "stdout",
     "output_type": "stream",
     "text": [
      "[37.5633577414568] [126.993360096149]\n"
     ]
    }
   ],
   "source": [
    "lat_list, lon_list = [], []\n",
    "lon_list.append(float(result['documents'][0]['x']))\n",
    "lat_list.append(float(result['documents'][0]['y']))\n",
    "print(lat_list, lon_list)"
   ]
  }
 ],
 "metadata": {
  "kernelspec": {
   "display_name": "Python 3",
   "language": "python",
   "name": "python3"
  },
  "language_info": {
   "codemirror_mode": {
    "name": "ipython",
    "version": 3
   },
   "file_extension": ".py",
   "mimetype": "text/x-python",
   "name": "python",
   "nbconvert_exporter": "python",
   "pygments_lexer": "ipython3",
   "version": "3.8.7"
  },
  "orig_nbformat": 4
 },
 "nbformat": 4,
 "nbformat_minor": 2
}
