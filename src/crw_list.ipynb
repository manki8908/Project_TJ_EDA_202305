{
 "cells": [
  {
   "cell_type": "code",
   "execution_count": 1,
   "metadata": {},
   "outputs": [],
   "source": [
    "import pandas as pd\n",
    "import numpy as np\n",
    "import sys\n",
    "sys.path.insert(0, '../inc')\n"
   ]
  },
  {
   "cell_type": "code",
   "execution_count": 2,
   "metadata": {},
   "outputs": [
    {
     "name": "stdout",
     "output_type": "stream",
     "text": [
      "<class 'pandas.core.frame.DataFrame'>\n",
      "RangeIndex: 6664 entries, 0 to 6663\n",
      "Data columns (total 47 columns):\n",
      " #   Column     Non-Null Count  Dtype  \n",
      "---  ------     --------------  -----  \n",
      " 0   개방자치단체코드   6664 non-null   int64  \n",
      " 1   관리번호       6664 non-null   object \n",
      " 2   인허가일자      6664 non-null   object \n",
      " 3   인허가취소일자    0 non-null      float64\n",
      " 4   영업상태코드     6664 non-null   int64  \n",
      " 5   영업상태명      6664 non-null   object \n",
      " 6   상세영업상태코드   6664 non-null   int64  \n",
      " 7   상세영업상태명    6664 non-null   object \n",
      " 8   폐업일자       4173 non-null   object \n",
      " 9   휴업시작일자     0 non-null      float64\n",
      " 10  휴업종료일자     0 non-null      float64\n",
      " 11  재개업일자      0 non-null      float64\n",
      " 12  전화번호       6262 non-null   object \n",
      " 13  소재지면적      6658 non-null   object \n",
      " 14  소재지우편번호    6653 non-null   object \n",
      " 15  지번주소       6653 non-null   object \n",
      " 16  도로명주소      3986 non-null   object \n",
      " 17  도로명우편번호    3821 non-null   float64\n",
      " 18  사업장명       6664 non-null   object \n",
      " 19  최종수정일자     6664 non-null   object \n",
      " 20  데이터갱신구분    6664 non-null   object \n",
      " 21  데이터갱신일자    6664 non-null   object \n",
      " 22  업태구분명      6664 non-null   object \n",
      " 23  좌표정보(X)    5931 non-null   float64\n",
      " 24  좌표정보(Y)    5931 non-null   float64\n",
      " 25  위생업태명      5855 non-null   object \n",
      " 26  건물지상층수     5051 non-null   float64\n",
      " 27  건물지하층수     4734 non-null   float64\n",
      " 28  사용시작지상층    4993 non-null   float64\n",
      " 29  사용끝지상층     3991 non-null   float64\n",
      " 30  사용시작지하층    4395 non-null   float64\n",
      " 31  사용끝지하층     3293 non-null   float64\n",
      " 32  한실수        5434 non-null   float64\n",
      " 33  양실수        5347 non-null   float64\n",
      " 34  욕실수        4813 non-null   float64\n",
      " 35  발한실여부      5855 non-null   object \n",
      " 36  좌석수        4622 non-null   float64\n",
      " 37  조건부허가신고사유  2 non-null      object \n",
      " 38  조건부허가시작일자  2 non-null      float64\n",
      " 39  조건부허가종료일자  2 non-null      float64\n",
      " 40  건물소유구분명    1613 non-null   object \n",
      " 41  세탁기수       3205 non-null   float64\n",
      " 42  여성종사자수     1267 non-null   float64\n",
      " 43  남성종사자수     1270 non-null   float64\n",
      " 44  회수건조수      3151 non-null   float64\n",
      " 45  침대수        3144 non-null   float64\n",
      " 46  다중이용업소여부   5855 non-null   object \n",
      "dtypes: float64(24), int64(3), object(20)\n",
      "memory usage: 2.4+ MB\n"
     ]
    }
   ],
   "source": [
    "# Load raw lodging list\n",
    "#df = pd.read_csv('../DABA/서울시 관광숙박업 인허가 정보.csv', encoding='cp949')\n",
    "df = pd.read_csv('../DABA/서울시 숙박업 인허가 정보.csv', encoding='cp949')\n",
    "df.info()"
   ]
  },
  {
   "cell_type": "code",
   "execution_count": 5,
   "metadata": {},
   "outputs": [
    {
     "name": "stdout",
     "output_type": "stream",
     "text": [
      "<class 'pandas.core.frame.DataFrame'>\n",
      "RangeIndex: 6664 entries, 0 to 6663\n",
      "Data columns (total 15 columns):\n",
      " #   Column   Non-Null Count  Dtype  \n",
      "---  ------   --------------  -----  \n",
      " 0   인허가일자    6664 non-null   object \n",
      " 1   인허가취소일자  0 non-null      float64\n",
      " 2   영업상태코드   6664 non-null   int64  \n",
      " 3   폐업일자     4173 non-null   object \n",
      " 4   휴업시작일자   0 non-null      float64\n",
      " 5   휴업종료일자   0 non-null      float64\n",
      " 6   재개업일자    0 non-null      float64\n",
      " 7   지번주소     6653 non-null   object \n",
      " 8   도로명주소    3986 non-null   object \n",
      " 9   도로명우편번호  3821 non-null   float64\n",
      " 10  사업장명     6664 non-null   object \n",
      " 11  데이터갱신일자  6664 non-null   object \n",
      " 12  업태구분명    6664 non-null   object \n",
      " 13  좌표정보(X)  5931 non-null   float64\n",
      " 14  좌표정보(Y)  5931 non-null   float64\n",
      "dtypes: float64(7), int64(1), object(7)\n",
      "memory usage: 781.1+ KB\n"
     ]
    }
   ],
   "source": [
    "# select item\n",
    "sel_colum = [2,3,4,8,9,10,11,15,16,17,18,21,22,23,24]\n",
    "sel_df = df.iloc[:,sel_colum]\n",
    "sel_df.info()\n"
   ]
  },
  {
   "cell_type": "code",
   "execution_count": 6,
   "metadata": {},
   "outputs": [
    {
     "ename": "TypeError",
     "evalue": "quote_from_bytes() expected bytes",
     "output_type": "error",
     "traceback": [
      "\u001b[1;31m---------------------------------------------------------------------------\u001b[0m",
      "\u001b[1;31mTypeError\u001b[0m                                 Traceback (most recent call last)",
      "Cell \u001b[1;32mIn[6], line 18\u001b[0m\n\u001b[0;32m     15\u001b[0m lat_list, lon_list, err_list \u001b[39m=\u001b[39m [], [], []\n\u001b[0;32m     16\u001b[0m \u001b[39mfor\u001b[39;00m i \u001b[39min\u001b[39;00m sel_df\u001b[39m.\u001b[39mindex:\n\u001b[0;32m     17\u001b[0m \u001b[39m#for i in [37]:\u001b[39;00m\n\u001b[1;32m---> 18\u001b[0m     temp \u001b[39m=\u001b[39m quote(sel_df\u001b[39m.\u001b[39;49m지번주소[i])\n\u001b[0;32m     19\u001b[0m     url \u001b[39m=\u001b[39m \u001b[39mf\u001b[39m\u001b[39m'\u001b[39m\u001b[39m{\u001b[39;00msearch_url\u001b[39m}\u001b[39;00m\u001b[39m?query=\u001b[39m\u001b[39m{\u001b[39;00mtemp\u001b[39m}\u001b[39;00m\u001b[39m'\u001b[39m\n\u001b[0;32m     20\u001b[0m     result \u001b[39m=\u001b[39m requests\u001b[39m.\u001b[39mget(url, headers\u001b[39m=\u001b[39m{\u001b[39m\"\u001b[39m\u001b[39mAuthorization\u001b[39m\u001b[39m\"\u001b[39m: \u001b[39mf\u001b[39m\u001b[39m'\u001b[39m\u001b[39mKakaoAK \u001b[39m\u001b[39m{\u001b[39;00mapi_key\u001b[39m}\u001b[39;00m\u001b[39m'\u001b[39m})\u001b[39m.\u001b[39mjson()\n",
      "File \u001b[1;32mc:\\Python38\\lib\\urllib\\parse.py:841\u001b[0m, in \u001b[0;36mquote\u001b[1;34m(string, safe, encoding, errors)\u001b[0m\n\u001b[0;32m    839\u001b[0m     \u001b[39mif\u001b[39;00m errors \u001b[39mis\u001b[39;00m \u001b[39mnot\u001b[39;00m \u001b[39mNone\u001b[39;00m:\n\u001b[0;32m    840\u001b[0m         \u001b[39mraise\u001b[39;00m \u001b[39mTypeError\u001b[39;00m(\u001b[39m\"\u001b[39m\u001b[39mquote() doesn\u001b[39m\u001b[39m'\u001b[39m\u001b[39mt support \u001b[39m\u001b[39m'\u001b[39m\u001b[39merrors\u001b[39m\u001b[39m'\u001b[39m\u001b[39m for bytes\u001b[39m\u001b[39m\"\u001b[39m)\n\u001b[1;32m--> 841\u001b[0m \u001b[39mreturn\u001b[39;00m quote_from_bytes(string, safe)\n",
      "File \u001b[1;32mc:\\Python38\\lib\\urllib\\parse.py:866\u001b[0m, in \u001b[0;36mquote_from_bytes\u001b[1;34m(bs, safe)\u001b[0m\n\u001b[0;32m    861\u001b[0m \u001b[39m\u001b[39m\u001b[39m\"\"\"Like quote(), but accepts a bytes object rather than a str, and does\u001b[39;00m\n\u001b[0;32m    862\u001b[0m \u001b[39mnot perform string-to-bytes encoding.  It always returns an ASCII string.\u001b[39;00m\n\u001b[0;32m    863\u001b[0m \u001b[39mquote_from_bytes(b'abc def\\x3f') -> 'abc%20def%3f'\u001b[39;00m\n\u001b[0;32m    864\u001b[0m \u001b[39m\"\"\"\u001b[39;00m\n\u001b[0;32m    865\u001b[0m \u001b[39mif\u001b[39;00m \u001b[39mnot\u001b[39;00m \u001b[39misinstance\u001b[39m(bs, (\u001b[39mbytes\u001b[39m, \u001b[39mbytearray\u001b[39m)):\n\u001b[1;32m--> 866\u001b[0m     \u001b[39mraise\u001b[39;00m \u001b[39mTypeError\u001b[39;00m(\u001b[39m\"\u001b[39m\u001b[39mquote_from_bytes() expected bytes\u001b[39m\u001b[39m\"\u001b[39m)\n\u001b[0;32m    867\u001b[0m \u001b[39mif\u001b[39;00m \u001b[39mnot\u001b[39;00m bs:\n\u001b[0;32m    868\u001b[0m     \u001b[39mreturn\u001b[39;00m \u001b[39m'\u001b[39m\u001b[39m'\u001b[39m\n",
      "\u001b[1;31mTypeError\u001b[0m: quote_from_bytes() expected bytes"
     ]
    }
   ],
   "source": [
    "# .. 카카오API로 위경도 삽입, pyproj로 시도하였으나 값이 약간 다름\n",
    "\n",
    "import requests # 온라인으로 보내거나 받아올 때 사용, 파이썬으로 웹사이트 연동할 때\n",
    "from urllib.parse import quote # url에서 한글 코드를 변환\n",
    "\n",
    "\n",
    "# API 키 가져오기\n",
    "filename = 'C:/Users/tjoeun/Desktop/수업자료/수업_실습/API/카카오API.txt'\n",
    "with open(filename) as f:\n",
    "    api_key = f.read().strip()\n",
    "    \n",
    "len(api_key)  # 32글자가 되야됨, 파일키 정상 문자열개수\n",
    "     \n",
    "search_url = 'https://dapi.kakao.com/v2/local/search/address.json'\n",
    "lat_list, lon_list, err_list = [], [], []\n",
    "for i in sel_df.index:\n",
    "#for i in [37]:\n",
    "    print(sel_df.지번주소[i])\n",
    "    temp = quote(sel_df.지번주소[i])\n",
    "    \n",
    "    url = f'{search_url}?query={temp}'\n",
    "    result = requests.get(url, headers={\"Authorization\": f'KakaoAK {api_key}'}).json()\n",
    "    # print(result)\n",
    "    # print(i, float(result['documents'][0]['x']), float(result['documents'][0]['y']))\n",
    "    try:\n",
    "        lon_list.append(float(result['documents'][0]['x']))\n",
    "        lat_list.append(float(result['documents'][0]['y']))\n",
    "    except:\n",
    "        lon_list.append(np.NAN)\n",
    "        lat_list.append(np.NAN)\n",
    "        err_list.append((i,sel_df.지번주소[i]))\n",
    "    \n",
    "sel_df['위도'] = lat_list\n",
    "sel_df['경도'] = lon_list\n",
    "sel_df.head()"
   ]
  },
  {
   "cell_type": "code",
   "execution_count": 7,
   "metadata": {},
   "outputs": [
    {
     "name": "stdout",
     "output_type": "stream",
     "text": [
      "[(37, '서울특별시 강남구 논현동 6 6-1'), (44, '서울특별시 강서구 방화동 886 외 6필지'), (73, '서울특별시 관악구 남현동 1061-2 3~7층'), (89, '서울특별시 중구 순화동 214-0 외 1필지'), (94, '서울특별시 성동구 도선동 58-0번지 '), (95, '서울특별시 강북구 수유동 174-32 외1필지(174-19)'), (117, '서울특별시 마포구 합정동 381-17번지 '), (150, '서울특별시 종로구 수송동 51-8 '), (175, '서울특별시 종로구 당주동 29 '), (194, '서울특별시 중구 을지로6가 17-2번지 케레스타 빌딩 18층~20층 '), (212, '서울특별시 중구 북창동 93-99 '), (227, '서울특별시 중구 회현동1가 194-19 '), (233, '서울특별시 중구 광희동2가 360번지 3-7층 '), (238, '서울특별시 중구 광희동2가 43-1 3~6층 '), (266, '서울특별시 중구 태평로1가 51-1 '), (274, '서울특별시 중구 순화동 151번지 외 1필지 C동 '), (280, '서울특별시 용산구 이태원동 119-24번지 119-24,25,108-9,123-10~15,116-1,116-5,112-7,112-15 '), (281, '서울특별시 용산구 이태원동 34-69 36-69, 34-159, 44-64'), (294, '서울특별시 성동구 도선동 72번지 외 2필지(73, 74번지) '), (299, '서울특별시 광진구 광장동 산 21-0번지 '), (315, '서울특별시 광진구 광장동 산 21-0'), (332, '서울특별시 성북구 동선동1가 92-20 외 3필지(92-21, 92-26, 92-27)'), (356, '서울특별시 서대문구 창천동 31-92 8,9,10층'), (401, '서울특별시 강서구 화곡동 918-23번지 외 2필지 '), (447, '서울특별시 영등포구 당산동3가 136번지 외 1필지 '), (574, '서울특별시 강남구 논현동 152번지 외 4필지, 152-1, 2, 3, 4 '), (604, '서울특별시 강동구 천호동 324-39 외3필지 ')]\n",
      "27\n"
     ]
    }
   ],
   "source": [
    "print(err_list)\n",
    "print(len(err_list))\n"
   ]
  },
  {
   "cell_type": "code",
   "execution_count": 11,
   "metadata": {},
   "outputs": [
    {
     "name": "stdout",
     "output_type": "stream",
     "text": [
      "<class 'pandas.core.frame.DataFrame'>\n",
      "RangeIndex: 610 entries, 0 to 609\n",
      "Data columns (total 12 columns):\n",
      " #   Column   Non-Null Count  Dtype  \n",
      "---  ------   --------------  -----  \n",
      " 0   사업장명     610 non-null    object \n",
      " 1   지번주소     610 non-null    object \n",
      " 2   도로명주소    602 non-null    object \n",
      " 3   위도       583 non-null    float64\n",
      " 4   경도       583 non-null    float64\n",
      " 5   인허가일자    610 non-null    object \n",
      " 6   인허가취소일자  1 non-null      float64\n",
      " 7   영업상태코드   610 non-null    int64  \n",
      " 8   폐업일자     136 non-null    object \n",
      " 9   휴업시작일자   9 non-null      object \n",
      " 10  휴업종료일자   9 non-null      object \n",
      " 11  재개업일자    0 non-null      float64\n",
      "dtypes: float64(4), int64(1), object(7)\n",
      "memory usage: 57.3+ KB\n"
     ]
    }
   ],
   "source": [
    "# 사업장명 컬럼 맨 앞으로 \n",
    "sel_df2 = sel_df[['사업장명','지번주소','도로명주소','위도','경도','인허가일자','인허가취소일자','영업상태코드','폐업일자','휴업시작일자','휴업종료일자','재개업일자']]\n",
    "sel_df2.info()"
   ]
  },
  {
   "cell_type": "code",
   "execution_count": 118,
   "metadata": {},
   "outputs": [],
   "source": [
    "sel_df2.to_csv(\"../DAIN/crw_list_add.txt\")"
   ]
  },
  {
   "cell_type": "code",
   "execution_count": 119,
   "metadata": {},
   "outputs": [],
   "source": [
    "err_df = pd.DataFrame(err_list, columns=['index','위경도 missing'])\n",
    "err_df.to_csv(\"../DAIN/err_list_add.txt\")"
   ]
  }
 ],
 "metadata": {
  "kernelspec": {
   "display_name": "Python 3",
   "language": "python",
   "name": "python3"
  },
  "language_info": {
   "codemirror_mode": {
    "name": "ipython",
    "version": 3
   },
   "file_extension": ".py",
   "mimetype": "text/x-python",
   "name": "python",
   "nbconvert_exporter": "python",
   "pygments_lexer": "ipython3",
   "version": "3.8.7"
  },
  "orig_nbformat": 4
 },
 "nbformat": 4,
 "nbformat_minor": 2
}
