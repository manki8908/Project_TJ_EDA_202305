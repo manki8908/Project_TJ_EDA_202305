{
 "cells": [
  {
   "cell_type": "code",
   "execution_count": 1,
   "metadata": {},
   "outputs": [],
   "source": [
    "import requests\n",
    "from bs4 import BeautifulSoup\n",
    "import pandas as pd\n",
    "import time\n",
    "from tqdm.notebook import tqdm\n",
    "import re \n",
    "\n",
    "from selenium import webdriver\n",
    "from selenium.webdriver.common.keys import Keys\n",
    "from selenium.webdriver.common.by import By\n",
    "from webdriver_manager.chrome import ChromeDriverManager\n",
    "from selenium.webdriver.chrome.service import Service\n"
   ]
  },
  {
   "cell_type": "code",
   "execution_count": 2,
   "metadata": {},
   "outputs": [
    {
     "name": "stdout",
     "output_type": "stream",
     "text": [
      "<class 'pandas.core.frame.DataFrame'>\n",
      "RangeIndex: 610 entries, 0 to 609\n",
      "Data columns (total 16 columns):\n",
      " #   Column      Non-Null Count  Dtype  \n",
      "---  ------      --------------  -----  \n",
      " 0   Unnamed: 0  610 non-null    int64  \n",
      " 1   인허가일자       610 non-null    object \n",
      " 2   인허가취소일자     1 non-null      float64\n",
      " 3   영업상태코드      610 non-null    int64  \n",
      " 4   폐업일자        136 non-null    object \n",
      " 5   휴업시작일자      9 non-null      object \n",
      " 6   휴업종료일자      9 non-null      object \n",
      " 7   재개업일자       0 non-null      float64\n",
      " 8   지번주소        610 non-null    object \n",
      " 9   도로명주소       602 non-null    object \n",
      " 10  도로명우편번호     516 non-null    float64\n",
      " 11  사업장명        610 non-null    object \n",
      " 12  좌표정보(X)     603 non-null    float64\n",
      " 13  좌표정보(Y)     603 non-null    float64\n",
      " 14  위도          583 non-null    float64\n",
      " 15  경도          583 non-null    float64\n",
      "dtypes: float64(7), int64(2), object(7)\n",
      "memory usage: 76.4+ KB\n"
     ]
    }
   ],
   "source": [
    "# 서울시 숙소 리스트 로드\n",
    "df = pd.read_csv('../DAIN/crw_list.txt')\n",
    "df.info()"
   ]
  },
  {
   "cell_type": "code",
   "execution_count": 125,
   "metadata": {},
   "outputs": [],
   "source": [
    "# 크롬 드라이버 시작\n",
    "chrome_options = webdriver.ChromeOptions()              # 옵션값 사용\n",
    "chrome_options.add_experimental_option(\"detach\",True)   # 브라우저 꺼짐 방지\n",
    "#driver = webdriver.Chrome(service=Service(ChromeDriverManager().install(), options = chrome_options))\n",
    "driver = webdriver.Chrome()"
   ]
  },
  {
   "cell_type": "code",
   "execution_count": 126,
   "metadata": {},
   "outputs": [],
   "source": [
    "driver.get(\"https://map.naver.com/v5\")\n",
    "driver.implicitly_wait(5)\n",
    "driver.maximize_window()"
   ]
  },
  {
   "cell_type": "code",
   "execution_count": 127,
   "metadata": {},
   "outputs": [],
   "source": [
    "# 검색 트리\n",
    "driver.find_element(By.CLASS_NAME, 'input_search').send_keys('이비스 앰배서더 명동', ',  ', '서울특별시 중구 명동1가 59-5')\n",
    "#driver.find_element(By.CLASS_NAME, 'input_search').send_keys('호텔 데님(Hotel Denim)',', ', '서울특별시 강남구 논현로 66 (개포동)')\n",
    "driver.find_element(By.CLASS_NAME, 'input_search').send_keys(Keys.ENTER)\n",
    "\n"
   ]
  },
  {
   "cell_type": "code",
   "execution_count": 128,
   "metadata": {},
   "outputs": [],
   "source": [
    "driver.switch_to.frame(\"searchIframe\")"
   ]
  },
  {
   "cell_type": "code",
   "execution_count": 129,
   "metadata": {},
   "outputs": [
    {
     "name": "stdout",
     "output_type": "stream",
     "text": [
      "3\n"
     ]
    }
   ],
   "source": [
    "try:     \n",
    "    #식당 정보가 있다면 첫번째 식당의 url을 가져오기    \n",
    "    if len(driver.find_elements(By.XPATH, '//*[@id=\"_pcmap_list_scroll_container\"]/ul/li')) != 0:   \n",
    "        print(len(driver.find_elements(By.XPATH, '//*[@id=\"_pcmap_list_scroll_container\"]/ul/li')))\n",
    "        #식당 정보 클릭        \n",
    "        driver.execute_script('return document.querySelector(\"#_pcmap_list_scroll_container > ul > li:nth-child(1) > div.qbGlu > div.ouxiq.icT4K > a:nth-child(1)\").click()')\n",
    "        #_pcmap_list_scroll_container > ul > li:nth-child(1) > div.qbGlu > div.ouxiq.icT4K > a:nth-child(1)\n",
    "        time.sleep(2)\n",
    "except: \n",
    "    print('검색 결과 한개, 새창 없음') "
   ]
  },
  {
   "cell_type": "code",
   "execution_count": 132,
   "metadata": {},
   "outputs": [
    {
     "name": "stdout",
     "output_type": "stream",
     "text": [
      "4.08\n"
     ]
    }
   ],
   "source": [
    "# 검색후 오른쪽 확장 탭으로 전환\n",
    "driver.switch_to.default_content()\n",
    "detail_iframe = driver.find_element(By.ID, 'entryIframe')\n",
    "driver.switch_to.frame(detail_iframe)\n",
    "# driver.switch_to.frame('entryIframe') # 그냥하면 안됨\n",
    "\n",
    "\n",
    "# 별점\n",
    "star_score = driver.find_element(By.XPATH, '//*[@id=\"app-root\"]/div/div/div/div[2]/div[1]/div[2]/span[1]/em').text\n",
    "print(star_score)\n",
    "\n",
    "\n",
    "\n"
   ]
  },
  {
   "cell_type": "code",
   "execution_count": null,
   "metadata": {},
   "outputs": [],
   "source": [
    "driver.close"
   ]
  }
 ],
 "metadata": {
  "kernelspec": {
   "display_name": ".venv",
   "language": "python",
   "name": "python3"
  },
  "language_info": {
   "codemirror_mode": {
    "name": "ipython",
    "version": 3
   },
   "file_extension": ".py",
   "mimetype": "text/x-python",
   "name": "python",
   "nbconvert_exporter": "python",
   "pygments_lexer": "ipython3",
   "version": "3.8.7"
  },
  "orig_nbformat": 4
 },
 "nbformat": 4,
 "nbformat_minor": 2
}
