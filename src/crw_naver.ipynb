{
 "cells": [
  {
   "cell_type": "code",
   "execution_count": 1,
   "metadata": {},
   "outputs": [],
   "source": [
    "import requests\n",
    "from bs4 import BeautifulSoup\n",
    "import pandas as pd\n",
    "import time\n",
    "from tqdm.notebook import tqdm\n",
    "import re \n",
    "\n",
    "from selenium import webdriver\n",
    "from selenium.webdriver.common.keys import Keys\n",
    "from selenium.webdriver.common.by import By\n",
    "from webdriver_manager.chrome import ChromeDriverManager\n",
    "from selenium.webdriver.chrome.service import Service\n"
   ]
  },
  {
   "cell_type": "code",
   "execution_count": 2,
   "metadata": {},
   "outputs": [
    {
     "name": "stdout",
     "output_type": "stream",
     "text": [
      "<class 'pandas.core.frame.DataFrame'>\n",
      "RangeIndex: 610 entries, 0 to 609\n",
      "Data columns (total 16 columns):\n",
      " #   Column      Non-Null Count  Dtype  \n",
      "---  ------      --------------  -----  \n",
      " 0   Unnamed: 0  610 non-null    int64  \n",
      " 1   인허가일자       610 non-null    object \n",
      " 2   인허가취소일자     1 non-null      float64\n",
      " 3   영업상태코드      610 non-null    int64  \n",
      " 4   폐업일자        136 non-null    object \n",
      " 5   휴업시작일자      9 non-null      object \n",
      " 6   휴업종료일자      9 non-null      object \n",
      " 7   재개업일자       0 non-null      float64\n",
      " 8   지번주소        610 non-null    object \n",
      " 9   도로명주소       602 non-null    object \n",
      " 10  도로명우편번호     516 non-null    float64\n",
      " 11  사업장명        610 non-null    object \n",
      " 12  좌표정보(X)     603 non-null    float64\n",
      " 13  좌표정보(Y)     603 non-null    float64\n",
      " 14  위도          583 non-null    float64\n",
      " 15  경도          583 non-null    float64\n",
      "dtypes: float64(7), int64(2), object(7)\n",
      "memory usage: 76.4+ KB\n"
     ]
    }
   ],
   "source": [
    "# 서울시 숙소 리스트 로드\n",
    "df = pd.read_csv('../DAIN/crw_list.txt')\n",
    "df.info()"
   ]
  },
  {
   "cell_type": "code",
   "execution_count": 3,
   "metadata": {},
   "outputs": [],
   "source": [
    "# 크롬 드라이버 시작\n",
    "chrome_options = webdriver.ChromeOptions()              # 옵션값 사용\n",
    "chrome_options.add_experimental_option(\"detach\",True)   # 브라우저 꺼짐 방지\n",
    "#driver = webdriver.Chrome(service=Service(ChromeDriverManager().install(), options = chrome_options))\n",
    "driver = webdriver.Chrome()"
   ]
  },
  {
   "cell_type": "code",
   "execution_count": 4,
   "metadata": {},
   "outputs": [],
   "source": [
    "driver.get(\"https://map.naver.com/v5\")\n",
    "driver.implicitly_wait(5)\n",
    "driver.maximize_window()"
   ]
  },
  {
   "cell_type": "code",
   "execution_count": 5,
   "metadata": {},
   "outputs": [],
   "source": [
    "# 검색 트리\n",
    "driver.find_element(By.CLASS_NAME, 'input_search').send_keys('이비스 앰배서더 명동', ',  ', '서울특별시 중구 명동1가 59-5')\n",
    "#driver.find_element(By.CLASS_NAME, 'input_search').send_keys('호텔 데님(Hotel Denim)',', ', '서울특별시 강남구 논현로 66 (개포동)')\n",
    "driver.find_element(By.CLASS_NAME, 'input_search').send_keys(Keys.ENTER)\n",
    "driver.implicitly_wait(5)\n",
    "driver.switch_to.frame(\"searchIframe\")"
   ]
  },
  {
   "cell_type": "code",
   "execution_count": 6,
   "metadata": {},
   "outputs": [
    {
     "name": "stdout",
     "output_type": "stream",
     "text": [
      "3\n"
     ]
    }
   ],
   "source": [
    "#식당 정보가 있다면 첫번째 식당의 url을 가져오기    \n",
    "if len(driver.find_elements(by=By.XPATH, value='//*[@id=\"_pcmap_list_scroll_container\"]/ul/li')) != 0:   \n",
    "    print(len(driver.find_elements(By.XPATH, '//*[@id=\"_pcmap_list_scroll_container\"]/ul/li')))\n",
    "    #식당 정보 클릭        \n",
    "    driver.execute_script('return document.querySelector(\"#_pcmap_list_scroll_container > ul > li:nth-child(1) > div.qbGlu > div.ouxiq.icT4K > a:nth-child(1)\").click()')\n",
    "    driver.implicitly_wait(2)\n",
    "else:\n",
    "    print('검색 결과 한개, 새창 없음')"
   ]
  },
  {
   "cell_type": "code",
   "execution_count": 7,
   "metadata": {},
   "outputs": [
    {
     "name": "stdout",
     "output_type": "stream",
     "text": [
      "star_score:  4.08\n",
      "visitor_review_count:  110\n",
      "blog_review_count:  440\n",
      "dist_from_stn:  222m\n",
      "time_from_stn:  1호선 시청역 6번출구 또는 2호선 을지로입구 6번출구, 4호선 명동역 6번출구로 나와 롯데백화점 방향으로, 국민은행 본점 바로 옆 위치.\n",
      "time_from_stn:  None\n",
      "facilitys_list:  ['무료 와이파이', '와이파이', '주차장', '24시간 리셉션', '외국어 구사 직원', '장애인 편의 시설', '드라이클리닝', '세탁 서비스', '모닝콜 서비스', '피트니스센터', '한증탕']\n"
     ]
    }
   ],
   "source": [
    "# 검색후 오른쪽 확장 탭으로 전환\n",
    "driver.switch_to.default_content()\n",
    "detail_iframe = driver.find_element(By.ID, 'entryIframe')\n",
    "driver.switch_to.frame(detail_iframe)\n",
    "# driver.switch_to.frame('entryIframe') # 그냥하면 안됨\n",
    "\n",
    "\n",
    "# 별점\n",
    "try:\n",
    "    star_score = driver.find_element(By.XPATH, '//*[@id=\"app-root\"]/div/div/div/div[2]/div[1]/div[2]/span[1]/em').text\n",
    "except:\n",
    "    star_score = None\n",
    "print(\"star_score: \", star_score)\n",
    "\n",
    "\n",
    "# 블로그 리뷰 수 & 방문자 리뷰 수\n",
    "# 방문자\n",
    "try:\n",
    "    visitor_review_count = driver.find_element(By.XPATH, '//*[@id=\"app-root\"]/div/div/div/div[2]/div[1]/div[2]/span[2]/a/em').text\n",
    "except:\n",
    "    visitor_review_count = None\n",
    "print(\"visitor_review_count: \", visitor_review_count)\n",
    "\n",
    "# 블로그\n",
    "try:\n",
    "    blog_review_count = driver.find_element(By.XPATH, '//*[@id=\"app-root\"]/div/div/div/div[2]/div[1]/div[2]/span[3]/a/em').text\n",
    "except:\n",
    "    blog_review_count = None\n",
    "print(\"blog_review_count: \", blog_review_count)\n",
    "\n",
    "\n",
    "# 가까운 지하철 역에서 거리 / 도보시간\n",
    "# 거리\n",
    "try:\n",
    "    dist_from_stn = driver.find_element(By.CSS_SELECTOR, 'div.O8qbU.tQY7D > div > div > em').text\n",
    "except:\n",
    "    dist_from_stn = None\n",
    "print(\"dist_from_stn: \", dist_from_stn)\n",
    "\n",
    "# 시간\n",
    "try:\n",
    "    time_from_stn = driver.find_element(By.XPATH, '//*[@id=\"app-root\"]/div/div/div/div[6]/div/div[2]/div/div/div[2]/div/div/div/span').text\n",
    "    print(\"time_from_stn: \", time_from_stn)\n",
    "    if time_from_stn.find(\"분\"):\n",
    "        time_from_stn = time_from_stn.split('분')[0].split('도보')[1]\n",
    "except:\n",
    "    time_from_stn = None\n",
    "print(\"time_from_stn: \", time_from_stn)\n",
    "\n",
    "\n",
    "# 주요시설\n",
    "facilitys_list = []\n",
    "try:\n",
    "    facilitys = driver.find_elements(By.CSS_SELECTOR, 'div.place_section_content > div > div.fusPl > ul > li')\n",
    "    for li in facilitys:\n",
    "        facilitys_list.append(li.text.strip())\n",
    "except:\n",
    "    facilitys_list = None\n",
    "print(\"facilitys_list: \", facilitys_list)\n",
    "\n"
   ]
  },
  {
   "cell_type": "code",
   "execution_count": 11,
   "metadata": {},
   "outputs": [],
   "source": [
    "# 리뷰 클릭\n",
    "driver.find_element(By.CSS_SELECTOR, 'div.place_fixed_maintab > div > div > div > div.flicking-camera > a:nth-child(3)').click()\n",
    "\n",
    "# 더보기 다 눌러 놓기\n",
    "while True:\n",
    "    try:\n",
    "        driver.find_element(By.CSS_SELECTOR, '#app-root > div > div > div > div:nth-child(7) > div:nth-child(3) > div.place_section.no_margin.mdJ86 > div > div > div.k2tmh > a.Tvx37').click()\n",
    "        driver.implicitly_wait(1)\n",
    "    except:\n",
    "        break\n"
   ]
  },
  {
   "cell_type": "code",
   "execution_count": 12,
   "metadata": {},
   "outputs": [
    {
     "name": "stdout",
     "output_type": "stream",
     "text": [
      "these_good_list:  [{'친절해요': 26}, {'대중교통이 편해요': 23}, {'깨끗해요': 20}, {'침구가 좋아요': 16}, {'조용히 쉬기 좋아요': 16}]\n"
     ]
    }
   ],
   "source": [
    "# 이런점이 좋아요, 딕셔너리로 {'리뷰':좋아요개수}\n",
    "these_good_count = int(driver.find_element(By.CSS_SELECTOR, '#app-root > div > div > div > div:nth-child(7) > div:nth-child(3) > div.place_section.no_margin.mdJ86 > div > div > div._Wmab > em').text)\n",
    "print('these_good_count: ', these_good_count)\n",
    "these_good_list = []\n",
    "these_good = driver.find_elements(By.CSS_SELECTOR, 'div.place_section.no_margin.mdJ86 > div > div > div.k2tmh > ul > li')\n",
    "for i, li in enumerate(these_good):\n",
    "    these_good_list.append({li.text.split(\"\\n\")[0].strip().replace('\"',\"\"): int(li.text.split(\"\\n\")[2].strip())})\n",
    "print(\"these_good_list: \", these_good_list)"
   ]
  },
  {
   "cell_type": "code",
   "execution_count": null,
   "metadata": {},
   "outputs": [],
   "source": [
    "driver.close"
   ]
  }
 ],
 "metadata": {
  "kernelspec": {
   "display_name": ".venv",
   "language": "python",
   "name": "python3"
  },
  "language_info": {
   "codemirror_mode": {
    "name": "ipython",
    "version": 3
   },
   "file_extension": ".py",
   "mimetype": "text/x-python",
   "name": "python",
   "nbconvert_exporter": "python",
   "pygments_lexer": "ipython3",
   "version": "3.8.16"
  },
  "orig_nbformat": 4
 },
 "nbformat": 4,
 "nbformat_minor": 2
}
