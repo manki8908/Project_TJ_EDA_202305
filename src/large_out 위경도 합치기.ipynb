{
 "cells": [
  {
   "attachments": {},
   "cell_type": "markdown",
   "metadata": {},
   "source": [
    "1. v1과 v2에 위경도 존재하는값을 v3에 삽입\n",
    "    - 새로돌린 v2에 없는 경우가 생김\n",
    "2. v3 데이터로 지하철역 거리 구하기"
   ]
  },
  {
   "cell_type": "code",
   "execution_count": 1,
   "metadata": {},
   "outputs": [],
   "source": [
    "import pandas as pd\n",
    "import numpy as np"
   ]
  },
  {
   "cell_type": "code",
   "execution_count": 23,
   "metadata": {},
   "outputs": [],
   "source": [
    "large1 = pd.read_csv('../DAOU/test_large_out_v1.csv', index_col=0, encoding='euc-kr')\n",
    "#large1 = pd.read_csv('../DAIN/crw_large_list.txt', index_col=0)\n",
    "large2 = pd.read_csv('../DAIN/crw_large_list_v2.txt', index_col=0)\n",
    "#large3 = pd.read_csv('../DAIN/crw_large_list.txt', index_col=0)\n",
    "large3 = pd.read_csv('../DAOU/test_large_out_v1.csv', index_col=0, encoding='euc-kr')"
   ]
  },
  {
   "cell_type": "code",
   "execution_count": 24,
   "metadata": {},
   "outputs": [
    {
     "name": "stdout",
     "output_type": "stream",
     "text": [
      "<class 'pandas.core.frame.DataFrame'>\n",
      "Int64Index: 6664 entries, 0 to 0\n",
      "Data columns (total 26 columns):\n",
      " #   Column                  Non-Null Count  Dtype  \n",
      "---  ------                  --------------  -----  \n",
      " 0   사업장명                    6664 non-null   object \n",
      " 1   업소유형                    874 non-null    object \n",
      " 2   업태구분명                   6664 non-null   object \n",
      " 3   지번주소                    6653 non-null   object \n",
      " 4   도로명주소                   3986 non-null   object \n",
      " 5   위도                      5287 non-null   float64\n",
      " 6   경도                      5287 non-null   float64\n",
      " 7   별점                      310 non-null    float64\n",
      " 8   방문자 리뷰수                 685 non-null    object \n",
      " 9   블로그 리뷰수                 513 non-null    object \n",
      " 10  지하철역과의 거리               774 non-null    object \n",
      " 11  도보시간                    94 non-null     object \n",
      " 12  한실수                     5434 non-null   float64\n",
      " 13  양실수                     5347 non-null   float64\n",
      " 14  욕실수                     4813 non-null   float64\n",
      " 15  구비시설                    107 non-null    object \n",
      " 16  네이버 이런점이 좋아요 총합         191 non-null    float64\n",
      " 17  네이버 이런점이 좋아요 {항목:좋아요수}  191 non-null    object \n",
      " 18  데이터갱신일자                 6664 non-null   object \n",
      " 19  인허가일자                   6664 non-null   object \n",
      " 20  인허가취소일자                 0 non-null      float64\n",
      " 21  영업상태코드                  6664 non-null   int64  \n",
      " 22  폐업일자                    4173 non-null   object \n",
      " 23  휴업시작일자                  0 non-null      float64\n",
      " 24  휴업종료일자                  0 non-null      float64\n",
      " 25  재개업일자                   0 non-null      float64\n",
      "dtypes: float64(11), int64(1), object(14)\n",
      "memory usage: 1.4+ MB\n"
     ]
    }
   ],
   "source": [
    "large3.info()"
   ]
  },
  {
   "cell_type": "code",
   "execution_count": 25,
   "metadata": {},
   "outputs": [
    {
     "name": "stdout",
     "output_type": "stream",
     "text": [
      "<class 'pandas.core.frame.DataFrame'>\n",
      "Int64Index: 6664 entries, 0 to 6663\n",
      "Data columns (total 17 columns):\n",
      " #   Column   Non-Null Count  Dtype  \n",
      "---  ------   --------------  -----  \n",
      " 0   사업장명     6664 non-null   object \n",
      " 1   지번주소     6653 non-null   object \n",
      " 2   도로명주소    3986 non-null   object \n",
      " 3   위도       5640 non-null   float64\n",
      " 4   경도       5640 non-null   float64\n",
      " 5   인허가일자    6664 non-null   object \n",
      " 6   인허가취소일자  0 non-null      float64\n",
      " 7   영업상태코드   6664 non-null   int64  \n",
      " 8   폐업일자     4173 non-null   object \n",
      " 9   휴업시작일자   0 non-null      float64\n",
      " 10  휴업종료일자   0 non-null      float64\n",
      " 11  재개업일자    0 non-null      float64\n",
      " 12  데이터갱신일자  6664 non-null   object \n",
      " 13  업태구분명    6664 non-null   object \n",
      " 14  한실수      5434 non-null   float64\n",
      " 15  양실수      5347 non-null   float64\n",
      " 16  욕실수      4813 non-null   float64\n",
      "dtypes: float64(9), int64(1), object(7)\n",
      "memory usage: 937.1+ KB\n"
     ]
    }
   ],
   "source": [
    "large2.info()"
   ]
  },
  {
   "cell_type": "code",
   "execution_count": 26,
   "metadata": {},
   "outputs": [
    {
     "name": "stdout",
     "output_type": "stream",
     "text": [
      "(5287, 26)\n",
      "(5640, 17)\n"
     ]
    }
   ],
   "source": [
    "print(large1[~np.isnan(large1['위도'])].shape)\n",
    "print(large2[~np.isnan(large2['위도'])].shape)\n",
    "\n",
    "#print(large1.head())\n",
    "#print(large2.head())"
   ]
  },
  {
   "cell_type": "code",
   "execution_count": null,
   "metadata": {},
   "outputs": [],
   "source": [
    "large1[~np.isnan(large1['위도'])]"
   ]
  },
  {
   "cell_type": "code",
   "execution_count": 28,
   "metadata": {},
   "outputs": [
    {
     "name": "stdout",
     "output_type": "stream",
     "text": [
      "<class 'pandas.core.series.Series'>\n",
      "0    False\n",
      "0     True\n",
      "0     True\n",
      "0     True\n",
      "0     True\n",
      "     ...  \n",
      "0     True\n",
      "0     True\n",
      "0     True\n",
      "0     True\n",
      "0     True\n",
      "Name: 위도, Length: 6664, dtype: bool\n"
     ]
    }
   ],
   "source": [
    "l1 = ~np.isnan(large1['위도'])\n",
    "l2 = ~np.isnan(large2['위도'])\n",
    "print(type(l1))\n",
    "print(l1)"
   ]
  },
  {
   "cell_type": "code",
   "execution_count": 154,
   "metadata": {},
   "outputs": [],
   "source": [
    "l1_F_index = set(l1.index[l1 == False].tolist())\n",
    "l2_T_index = set(l2.index[l2 == True].tolist())\n",
    "print(l1_F_index)\n",
    "print(l2_T_index)\n",
    "\n",
    "# l3_index = list(l1_F_index & l2_T_index)\n",
    "# l3_index\n",
    "\n",
    "# large3.iloc[l3_index,:] = large2.iloc[l3_index,:]"
   ]
  },
  {
   "cell_type": "code",
   "execution_count": 27,
   "metadata": {},
   "outputs": [
    {
     "name": "stdout",
     "output_type": "stream",
     "text": [
      "<class 'pandas.core.frame.DataFrame'>\n",
      "Int64Index: 6664 entries, 0 to 0\n",
      "Data columns (total 26 columns):\n",
      " #   Column                  Non-Null Count  Dtype  \n",
      "---  ------                  --------------  -----  \n",
      " 0   사업장명                    6664 non-null   object \n",
      " 1   업소유형                    874 non-null    object \n",
      " 2   업태구분명                   6664 non-null   object \n",
      " 3   지번주소                    6653 non-null   object \n",
      " 4   도로명주소                   3986 non-null   object \n",
      " 5   위도                      5287 non-null   float64\n",
      " 6   경도                      5287 non-null   float64\n",
      " 7   별점                      310 non-null    float64\n",
      " 8   방문자 리뷰수                 685 non-null    object \n",
      " 9   블로그 리뷰수                 513 non-null    object \n",
      " 10  지하철역과의 거리               774 non-null    object \n",
      " 11  도보시간                    94 non-null     object \n",
      " 12  한실수                     5434 non-null   float64\n",
      " 13  양실수                     5347 non-null   float64\n",
      " 14  욕실수                     4813 non-null   float64\n",
      " 15  구비시설                    107 non-null    object \n",
      " 16  네이버 이런점이 좋아요 총합         191 non-null    float64\n",
      " 17  네이버 이런점이 좋아요 {항목:좋아요수}  191 non-null    object \n",
      " 18  데이터갱신일자                 6664 non-null   object \n",
      " 19  인허가일자                   6664 non-null   object \n",
      " 20  인허가취소일자                 0 non-null      float64\n",
      " 21  영업상태코드                  6664 non-null   int64  \n",
      " 22  폐업일자                    4173 non-null   object \n",
      " 23  휴업시작일자                  0 non-null      float64\n",
      " 24  휴업종료일자                  0 non-null      float64\n",
      " 25  재개업일자                   0 non-null      float64\n",
      "dtypes: float64(11), int64(1), object(14)\n",
      "memory usage: 1.4+ MB\n"
     ]
    }
   ],
   "source": [
    "large3.to_csv(\"../DAIN/crw_large_list_v3.txt\")\n",
    "large3.info()"
   ]
  },
  {
   "cell_type": "code",
   "execution_count": null,
   "metadata": {},
   "outputs": [],
   "source": [
    "l1_F_index = set(l1.index[l1 == False].tolist())\n",
    "l2_T_index = set(l2.index[l2 == True].tolist())\n",
    "print(l1_F_index)\n",
    "print(l2_T_index)\n",
    "\n",
    "l3_index = list(l1_F_index & l2_T_index)\n",
    "l3_index"
   ]
  }
 ],
 "metadata": {
  "kernelspec": {
   "display_name": "Python 3",
   "language": "python",
   "name": "python3"
  },
  "language_info": {
   "codemirror_mode": {
    "name": "ipython",
    "version": 3
   },
   "file_extension": ".py",
   "mimetype": "text/x-python",
   "name": "python",
   "nbconvert_exporter": "python",
   "pygments_lexer": "ipython3",
   "version": "3.8.7"
  },
  "orig_nbformat": 4
 },
 "nbformat": 4,
 "nbformat_minor": 2
}
