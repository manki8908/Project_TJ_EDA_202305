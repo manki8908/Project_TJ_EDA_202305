{
 "cells": [
  {
   "cell_type": "code",
   "execution_count": 1,
   "metadata": {},
   "outputs": [],
   "source": [
    "import pandas as pd"
   ]
  },
  {
   "cell_type": "code",
   "execution_count": 36,
   "metadata": {},
   "outputs": [
    {
     "name": "stdout",
     "output_type": "stream",
     "text": [
      "[{'깨끗해요': 9}, {'친절해요': 7}, {'주차하기 편해요': 7}, {'조용히 쉬기 좋아요': 5}, {'냉난방이 잘돼요': 3}, {'침구가 좋아요': 2}, {'호캉스하기 좋아요': 2}, {'인테리어가 멋져요': 2}]\n"
     ]
    }
   ],
   "source": [
    "a = [{'깨끗해요': 9}, {'친절해요': 7}, {'주차하기 편해요': 7}, {'조용히 쉬기 좋아요': 5}, {'냉난방이 잘돼요': 3}, {'침구가 좋아요': 2}, {'호캉스하기 좋아요': 2}, {'인테리어가 멋져요': 2}]\n",
    "b = ['무료 와이파이', '와이파이', '무료 주차 가능', '주차장']\n",
    "print(a)"
   ]
  },
  {
   "cell_type": "code",
   "execution_count": 40,
   "metadata": {},
   "outputs": [
    {
     "name": "stdout",
     "output_type": "stream",
     "text": [
      "무료 와이파이\n",
      "와이파이\n",
      "무료 주차 가능\n",
      "주차장\n",
      "{'깨끗해요': 9}\n",
      "{'친절해요': 7}\n",
      "{'주차하기 편해요': 7}\n",
      "{'조용히 쉬기 좋아요': 5}\n",
      "{'냉난방이 잘돼요': 3}\n",
      "{'침구가 좋아요': 2}\n",
      "{'호캉스하기 좋아요': 2}\n",
      "{'인테리어가 멋져요': 2}\n"
     ]
    }
   ],
   "source": [
    "#c = \".\".join(str(a))\n",
    "#d = \".\".join(str(c))\n",
    "\n",
    "c = \"\\n\".join(b)\n",
    "print(c)\n",
    "\n",
    "d=''\n",
    "for i, item in enumerate(a):\n",
    "    #print(str(item))\n",
    "    if i == len(a)-1:\n",
    "        d += str(item)\n",
    "    else:\n",
    "        d += str(item) + '\\n'\n",
    "print(d)"
   ]
  },
  {
   "cell_type": "code",
   "execution_count": 38,
   "metadata": {},
   "outputs": [
    {
     "data": {
      "text/plain": [
       "'0,1,2,3,4,5,6,7'"
      ]
     },
     "execution_count": 38,
     "metadata": {},
     "output_type": "execute_result"
    }
   ],
   "source": [
    "d"
   ]
  },
  {
   "cell_type": "code",
   "execution_count": null,
   "metadata": {},
   "outputs": [],
   "source": [
    "line = [[4, 56, '67', None, None, '무료 와이파이\\n와이파이\\n무료 주차 가능\\n주차장\\n24시간 리셉션\\n컨시어지\\n장애인 편의 시설\\n드라이클리  \\n세탁 서비스\\n모닝콜 서비스', 23, \"{'깨끗해요': 9}\\n{'친절해요 편의 시설\\n드라이클리닝\\n세탁 서비스\\n모닝콜 서비스', 23, \"{'깨끗해요': 9}\\n{'친절해요': 7}\\n{'주차하기 편해요': 7}\\n{'  쉬기 ': 5}  잘돼요': 3가 좋아  멋져요': 2}\\n{'대중교통이 편해요': 2}\"], [Non6', '51m',\n",
    "조용히 쉬기 좋아요': 5}\\n{'냉난방이 잘돼요': 3}\\n{'침구가 좋아요': 2}\\n{'호캉스하기 좋아요': 2}\\n{'인테리어가 멋져요': 2} 이  , [Nonne, '', None48, None피트니스센터', None, None]]\\n{'대중교통이 편해요': 2}\"], [None, 128, '76', '51m', None, '', None, None], [None, 48, None, '105m', ' 3', '무료 와이파4시간  직원None, None]]\n",
    "이\\n와이파이\\n24시간 리셉션\\n외국어 구사 직원\\n물품보관소\\n환전\\n피트니스센터', None, None]]\n",
    "print(line)"
   ]
  },
  {
   "cell_type": "code",
   "execution_count": null,
   "metadata": {},
   "outputs": [],
   "source": [
    "get_list = pd.DataFrame(line, columns=['1', '2', '3', '4', '5', '6', '7', '8'])\n",
    "print(get_list)"
   ]
  },
  {
   "cell_type": "code",
   "execution_count": 53,
   "metadata": {},
   "outputs": [],
   "source": [
    "test = []\n",
    "\n",
    "if test:\n",
    "    print(\"11111\")\n"
   ]
  },
  {
   "cell_type": "code",
   "execution_count": null,
   "metadata": {},
   "outputs": [],
   "source": [
    "a = [24, 'a', 'b']\n"
   ]
  },
  {
   "cell_type": "code",
   "execution_count": null,
   "metadata": {},
   "outputs": [],
   "source": [
    "df = pd.read_csv('../DAIN/crw_list.txt', index_col = 0)\n",
    "df"
   ]
  },
  {
   "cell_type": "code",
   "execution_count": 102,
   "metadata": {},
   "outputs": [
    {
     "name": "stdout",
     "output_type": "stream",
     "text": [
      "['2015-02-03', nan, 1, nan, nan, nan, nan, '서울특별시 강남구 개포동 1229-14', '서울특별시 강남구 논현로 66 (개포동)', 6307.0, '호텔 데님(Hotel Denim)', 204053.596300672, 441557.179656218, 37.4761898374266, 127.046615783737, '무료 와이파이', '와이파이', '무료 주차 가능', '주차장']\n",
      "[['2015-02-03', nan, 1, nan, nan, nan, nan, '서울특별시 강남구 개포동 1229-14', '서울특별시 강남구 논현로 66 (개포동)', 6307.0, '호텔 데님(Hotel Denim)', 204053.596300672, 441557.179656218, 37.4761898374266, 127.046615783737, '무료 와이파이', '와이파이', '무료 주차 가능', '주차장']]\n"
     ]
    }
   ],
   "source": [
    "re = []\n",
    "test = df.iloc[0].tolist()\n",
    "test.extend(b)\n",
    "print(test)\n",
    "re.append(test)\n",
    "print(re)"
   ]
  },
  {
   "cell_type": "code",
   "execution_count": 91,
   "metadata": {},
   "outputs": [
    {
     "name": "stdout",
     "output_type": "stream",
     "text": [
      "None\n"
     ]
    },
    {
     "data": {
      "text/plain": [
       "[1, 2, 3, 4, 5, 6]"
      ]
     },
     "execution_count": 91,
     "metadata": {},
     "output_type": "execute_result"
    }
   ],
   "source": [
    "array = [1, 2, 3]\n",
    "array2 = [4, 5, 6]\n",
    "\n",
    "print(array.extend(array2))\n",
    "array"
   ]
  },
  {
   "cell_type": "code",
   "execution_count": 109,
   "metadata": {},
   "outputs": [
    {
     "data": {
      "text/plain": [
       "['5분']"
      ]
     },
     "execution_count": 109,
     "metadata": {},
     "output_type": "execute_result"
    }
   ],
   "source": [
    "import re\n",
    "text = \"신림역 7번 출구 르네상스 쇼핑몰에서 우회전, 도보로 5분거리내에\"\n",
    "p = re.compile('[0-9]+분')\n",
    "p.findall(text)"
   ]
  },
  {
   "cell_type": "code",
   "execution_count": 113,
   "metadata": {},
   "outputs": [
    {
     "name": "stdout",
     "output_type": "stream",
     "text": [
      "<class 'pandas.core.frame.DataFrame'>\n",
      "Int64Index: 34 entries, 0 to 33\n",
      "Data columns (total 21 columns):\n",
      " #   Column                  Non-Null Count  Dtype  \n",
      "---  ------                  --------------  -----  \n",
      " 0   사업장명                    34 non-null     object \n",
      " 1   업소유형                    34 non-null     object \n",
      " 2   지번주소                    34 non-null     object \n",
      " 3   도로명주소                   34 non-null     object \n",
      " 4   위도                      34 non-null     float64\n",
      " 5   경도                      34 non-null     float64\n",
      " 6   별점                      21 non-null     float64\n",
      " 7   방문자 리뷰수                 28 non-null     float64\n",
      " 8   블로그 리뷰수                 21 non-null     object \n",
      " 9   지하철역과의 거리               32 non-null     object \n",
      " 10  도보시간                    12 non-null     object \n",
      " 11  구비시설                    22 non-null     object \n",
      " 12  네이버 이런점이 좋아요 총합         23 non-null     float64\n",
      " 13  네이버 이런점이 좋아요 {항목:좋아요수}  23 non-null     object \n",
      " 14  인허가일자                   34 non-null     object \n",
      " 15  인허가취소일자                 0 non-null      float64\n",
      " 16  영업상태코드                  34 non-null     int64  \n",
      " 17  폐업일자                    2 non-null      object \n",
      " 18  휴업시작일자                  2 non-null      object \n",
      " 19  휴업종료일자                  2 non-null      object \n",
      " 20  재개업일자                   0 non-null      float64\n",
      "dtypes: float64(7), int64(1), object(13)\n",
      "memory usage: 5.8+ KB\n"
     ]
    }
   ],
   "source": [
    "df = pd.read_csv('../DAOU/test_out.csv', index_col = 0, encoding='euc-kr')\n",
    "df.info()"
   ]
  },
  {
   "cell_type": "code",
   "execution_count": 3,
   "metadata": {},
   "outputs": [
    {
     "name": "stdout",
     "output_type": "stream",
     "text": [
      "True\n"
     ]
    }
   ],
   "source": [
    "import os\n",
    "\n",
    "output_path = \"../DAOU/test_out.csv\"\n",
    "print(os.path.exists(output_path))\n",
    "if os.path.exists(output_path): os.remove(output_path)"
   ]
  }
 ],
 "metadata": {
  "kernelspec": {
   "display_name": "Python 3",
   "language": "python",
   "name": "python3"
  },
  "language_info": {
   "codemirror_mode": {
    "name": "ipython",
    "version": 3
   },
   "file_extension": ".py",
   "mimetype": "text/x-python",
   "name": "python",
   "nbconvert_exporter": "python",
   "pygments_lexer": "ipython3",
   "version": "3.8.7"
  },
  "orig_nbformat": 4
 },
 "nbformat": 4,
 "nbformat_minor": 2
}
