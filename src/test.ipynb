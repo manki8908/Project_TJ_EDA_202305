{
 "cells": [
  {
   "cell_type": "code",
   "execution_count": 1,
   "metadata": {},
   "outputs": [],
   "source": [
    "import pandas as pd"
   ]
  },
  {
   "cell_type": "code",
   "execution_count": 36,
   "metadata": {},
   "outputs": [
    {
     "name": "stdout",
     "output_type": "stream",
     "text": [
      "[{'깨끗해요': 9}, {'친절해요': 7}, {'주차하기 편해요': 7}, {'조용히 쉬기 좋아요': 5}, {'냉난방이 잘돼요': 3}, {'침구가 좋아요': 2}, {'호캉스하기 좋아요': 2}, {'인테리어가 멋져요': 2}]\n"
     ]
    }
   ],
   "source": [
    "a = [{'깨끗해요': 9}, {'친절해요': 7}, {'주차하기 편해요': 7}, {'조용히 쉬기 좋아요': 5}, {'냉난방이 잘돼요': 3}, {'침구가 좋아요': 2}, {'호캉스하기 좋아요': 2}, {'인테리어가 멋져요': 2}]\n",
    "b = ['무료 와이파이', '와이파이', '무료 주차 가능', '주차장']\n",
    "print(a)"
   ]
  },
  {
   "cell_type": "code",
   "execution_count": 40,
   "metadata": {},
   "outputs": [
    {
     "name": "stdout",
     "output_type": "stream",
     "text": [
      "무료 와이파이\n",
      "와이파이\n",
      "무료 주차 가능\n",
      "주차장\n",
      "{'깨끗해요': 9}\n",
      "{'친절해요': 7}\n",
      "{'주차하기 편해요': 7}\n",
      "{'조용히 쉬기 좋아요': 5}\n",
      "{'냉난방이 잘돼요': 3}\n",
      "{'침구가 좋아요': 2}\n",
      "{'호캉스하기 좋아요': 2}\n",
      "{'인테리어가 멋져요': 2}\n"
     ]
    }
   ],
   "source": [
    "#c = \".\".join(str(a))\n",
    "#d = \".\".join(str(c))\n",
    "\n",
    "c = \"\\n\".join(b)\n",
    "print(c)\n",
    "\n",
    "d=''\n",
    "for i, item in enumerate(a):\n",
    "    #print(str(item))\n",
    "    if i == len(a)-1:\n",
    "        d += str(item)\n",
    "    else:\n",
    "        d += str(item) + '\\n'\n",
    "print(d)"
   ]
  },
  {
   "cell_type": "code",
   "execution_count": 38,
   "metadata": {},
   "outputs": [
    {
     "data": {
      "text/plain": [
       "'0,1,2,3,4,5,6,7'"
      ]
     },
     "execution_count": 38,
     "metadata": {},
     "output_type": "execute_result"
    }
   ],
   "source": [
    "d"
   ]
  }
 ],
 "metadata": {
  "kernelspec": {
   "display_name": "Python 3",
   "language": "python",
   "name": "python3"
  },
  "language_info": {
   "codemirror_mode": {
    "name": "ipython",
    "version": 3
   },
   "file_extension": ".py",
   "mimetype": "text/x-python",
   "name": "python",
   "nbconvert_exporter": "python",
   "pygments_lexer": "ipython3",
   "version": "3.8.7"
  },
  "orig_nbformat": 4
 },
 "nbformat": 4,
 "nbformat_minor": 2
}
