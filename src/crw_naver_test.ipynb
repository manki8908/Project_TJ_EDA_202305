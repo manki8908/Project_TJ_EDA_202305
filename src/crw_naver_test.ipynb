{
 "cells": [
  {
   "cell_type": "code",
   "execution_count": 1,
   "metadata": {},
   "outputs": [],
   "source": [
    "import requests\n",
    "from bs4 import BeautifulSoup\n",
    "import pandas as pd\n",
    "import time\n",
    "from tqdm.notebook import tqdm\n",
    "import re \n",
    "\n",
    "from selenium import webdriver\n",
    "from selenium.webdriver.common.keys import Keys\n",
    "from selenium.webdriver.common.by import By\n",
    "from webdriver_manager.chrome import ChromeDriverManager\n",
    "from selenium.webdriver.chrome.service import Service\n"
   ]
  },
  {
   "cell_type": "code",
   "execution_count": 2,
   "metadata": {},
   "outputs": [
    {
     "name": "stdout",
     "output_type": "stream",
     "text": [
      "<class 'pandas.core.frame.DataFrame'>\n",
      "RangeIndex: 610 entries, 0 to 609\n",
      "Data columns (total 13 columns):\n",
      " #   Column      Non-Null Count  Dtype  \n",
      "---  ------      --------------  -----  \n",
      " 0   Unnamed: 0  610 non-null    int64  \n",
      " 1   사업장명        610 non-null    object \n",
      " 2   지번주소        610 non-null    object \n",
      " 3   도로명주소       602 non-null    object \n",
      " 4   위도          583 non-null    float64\n",
      " 5   경도          583 non-null    float64\n",
      " 6   인허가일자       610 non-null    object \n",
      " 7   인허가취소일자     1 non-null      float64\n",
      " 8   영업상태코드      610 non-null    int64  \n",
      " 9   폐업일자        136 non-null    object \n",
      " 10  휴업시작일자      9 non-null      object \n",
      " 11  휴업종료일자      9 non-null      object \n",
      " 12  재개업일자       0 non-null      float64\n",
      "dtypes: float64(4), int64(2), object(7)\n",
      "memory usage: 62.1+ KB\n"
     ]
    }
   ],
   "source": [
    "# 서울시 숙소 리스트 로드\n",
    "df = pd.read_csv('../DAIN/crw_list.txt')\n",
    "df.info()"
   ]
  },
  {
   "cell_type": "code",
   "execution_count": 10,
   "metadata": {},
   "outputs": [],
   "source": [
    "# 크롬 드라이버 시작\n",
    "chrome_options = webdriver.ChromeOptions()              # 옵션값 사용\n",
    "chrome_options.add_experimental_option(\"detach\",True)   # 브라우저 꺼짐 방지\n",
    "driver = webdriver.Chrome(service=Service(ChromeDriverManager().install(), options = chrome_options))\n",
    "#driver = webdriver.Chrome()"
   ]
  },
  {
   "cell_type": "code",
   "execution_count": 11,
   "metadata": {},
   "outputs": [],
   "source": [
    "driver.get(\"https://map.naver.com/v5\")\n",
    "driver.implicitly_wait(5)\n",
    "#driver.maximize_window()"
   ]
  },
  {
   "cell_type": "code",
   "execution_count": 12,
   "metadata": {},
   "outputs": [],
   "source": [
    "# 검색 트리\n",
    "#driver.find_element(By.CLASS_NAME, 'input_search').send_keys('이비스 앰배서더 명동', ',  ', '서울특별시 중구 명동1가 59-5')\n",
    "#driver.find_element(By.CLASS_NAME, 'input_search').send_keys('호텔 데님(Hotel Denim)',', ', '서울특별시 강남구 논현로 66 (개포동)')\n",
    "#driver.find_element(By.CLASS_NAME, 'input_search').send_keys('티마크그랜드호텔명동', ', ', '서울특별시 중구 회현동1가 194-15')\n",
    "#driver.find_element(By.CLASS_NAME, 'input_search').send_keys('위너스', ', ', '서울특별시 금천구 독산동 335-21')\n",
    "#driver.find_element(By.CLASS_NAME, 'input_search').send_keys('데이즈 호텔 명동', ', ', '서울특별시 중구 충무로1가 24-30')\n",
    "#driver.find_element(By.CLASS_NAME, 'input_search').send_keys('삼화', ', ', '서울특별시 관악구 신림동 1432-62')\n",
    "#driver.find_element(By.CLASS_NAME, 'input_search').send_keys('나이스타임 관광호텔', ', ', '서울특별시 관악구 신림동 1422-18')\n",
    "driver.find_element(By.CLASS_NAME, 'input_search').send_keys('노보텔 앰배서더', ', ', '서울 동대문 호텔, 서울특별시 중구 을지로6가 58-5')\n",
    "driver.find_element(By.CLASS_NAME, 'input_search').send_keys(Keys.ENTER)\n",
    "driver.implicitly_wait(5)\n",
    "driver.switch_to.frame(\"searchIframe\")"
   ]
  },
  {
   "cell_type": "code",
   "execution_count": 18,
   "metadata": {},
   "outputs": [
    {
     "name": "stdout",
     "output_type": "stream",
     "text": [
      "주소검색결과 개수: 4\n",
      "[<selenium.webdriver.remote.webelement.WebElement (session=\"b593f31a93e97c1982b6a0de2f67f49e\", element=\"9DC69E89A3790E26504264CF4486942C_element_409\")>, <selenium.webdriver.remote.webelement.WebElement (session=\"b593f31a93e97c1982b6a0de2f67f49e\", element=\"9DC69E89A3790E26504264CF4486942C_element_410\")>]\n"
     ]
    }
   ],
   "source": [
    "#식당 정보가 있다면 첫번째 식당의 url을 가져오기    \n",
    "search_result = driver.find_elements(by=By.XPATH, value='//*[@id=\"_pcmap_list_scroll_container\"]/ul/li')\n",
    "count_search_result = len(driver.find_elements(by=By.XPATH, value='//*[@id=\"_pcmap_list_scroll_container\"]/ul/li'))\n",
    "print(f\"주소검색결과 개수: {count_search_result}\")\n",
    "if count_search_result == 0:   \n",
    "    pass\n",
    "elif count_search_result > 1:\n",
    "    #식당 정보 클릭        \n",
    "    driver.execute_script('return document.querySelector(\"#_pcmap_list_scroll_container > ul > li:nth-child(1) > div.qbGlu > div> a:nth-child(1)\").click()')\n",
    "    driver.implicitly_wait(2)\n",
    "else:\n",
    "    print('검색 결과 한개, 새창 없음')"
   ]
  },
  {
   "cell_type": "code",
   "execution_count": 9,
   "metadata": {},
   "outputs": [
    {
     "name": "stdout",
     "output_type": "stream",
     "text": [
      "star_score:  None\n",
      "stn_type:  호스텔\n",
      "visitor_review_count:  None\n",
      "blog_review_count:  None\n",
      "dist_from_stn:  220m\n",
      "time_from_stn:  None\n",
      "facilitys_list:  []\n",
      "print check_list 0:  홈\n",
      "print check_list 1:  사진\n"
     ]
    }
   ],
   "source": [
    "# 검색후 오른쪽 확장 탭으로 전환\n",
    "driver.switch_to.default_content()\n",
    "detail_iframe = driver.find_element(By.ID, 'entryIframe')\n",
    "driver.switch_to.frame(detail_iframe)\n",
    "# driver.switch_to.frame('entryIframe') # 그냥하면 안됨\n",
    "\n",
    "\n",
    "star_score = None\n",
    "stn_type = None\n",
    "visitor_review_count = None\n",
    "blog_review_count = None\n",
    "dist_from_stn = None\n",
    "time_from_stn = None\n",
    "facilitys_list_join = None\n",
    "these_good_count = None\n",
    "these_good_list_join = None\n",
    "\n",
    "\n",
    "# 별점\n",
    "try:\n",
    "    star_score = float(driver.find_element(By.CSS_SELECTOR, '#app-root > div > div > div > div.place_section.OP4V8 > div.zD5Nm.f7aZ0 > div.dAsGb > span.PXMot.LXIwF > em').text)\n",
    "except:\n",
    "    pass\n",
    "print(\"star_score: \", star_score)\n",
    "# 업소유형\n",
    "try:\n",
    "    stn_type = driver.find_element(By.CSS_SELECTOR, '#_title > span.DJJvD').text\n",
    "except:\n",
    "    pass\n",
    "print(\"stn_type: \", stn_type)\n",
    "# 블로그 리뷰 수 & 방문자 리뷰 수\n",
    "# 방문자\n",
    "try:\n",
    "    visitor_review_count = int(driver.find_element(By.XPATH, '//*[@id=\"app-root\"]/div/div/div/div[2]/div[1]/div[2]/span[2]/a/em').text)\n",
    "except:\n",
    "    pass\n",
    "print(\"visitor_review_count: \", visitor_review_count)\n",
    "# 블로그\n",
    "try:\n",
    "    blog_review_count = driver.find_element(By.XPATH, '//*[@id=\"app-root\"]/div/div/div/div[2]/div[1]/div[2]/span[3]/a/em').text\n",
    "except:\n",
    "    pass\n",
    "print(\"blog_review_count: \", blog_review_count)\n",
    "# 가까운 지하철 역에서 거리 / 도보시간\n",
    "# 거리\n",
    "try:\n",
    "    dist_from_stn = driver.find_element(By.CSS_SELECTOR, 'div.O8qbU.tQY7D > div > div > em').text\n",
    "except:\n",
    "    pass\n",
    "print(\"dist_from_stn: \", dist_from_stn)\n",
    "# 시간\n",
    "try:\n",
    "    time_text = driver.find_element(By.XPATH, '//*[@id=\"app-root\"]/div/div/div/div[6]/div/div[2]/div/div/div[2]/div/div/div/span').text\n",
    "    #print(\"time_text: \", time_text)\n",
    "    p = re.compile('[0-9]+분')\n",
    "    time_from_stn = p.findall(time_text)            \n",
    "except:\n",
    "    pass\n",
    "print(\"time_from_stn: \", time_from_stn)\n",
    "# 주요시설\n",
    "facilitys_list = []\n",
    "try:\n",
    "    facilitys = driver.find_elements(By.CSS_SELECTOR, 'div.place_section_content > div > div.fusPl > ul > li')\n",
    "    for li in facilitys:\n",
    "        facilitys_list.append(li.text.strip())\n",
    "except:\n",
    "    facilitys_list = None\n",
    "#facilitys_list_join = \"\\n\".join(facilitys_list)\n",
    "facilitys_list_join = \",\".join(facilitys_list)\n",
    "print(\"facilitys_list: \", facilitys_list)\n",
    "\n",
    "# .. 리뷰 클릭\n",
    "try:    # 홈, 리뷰 탭이 있는지 없는지 확인\n",
    "    check_list = driver.find_elements(By.CSS_SELECTOR, 'div.place_fixed_maintab > div > div > div > div.flicking-camera > a.tpj9w._tab-menu > span.veBoZ')\n",
    "    for i, li in enumerate(check_list):\n",
    "        print(f\"print check_list {i}: \", li.text)\n",
    "except:\n",
    "    pass\n",
    "else:\n",
    "    # 리뷰 버튼이 있으면 클릭\n",
    "    if check_list:\n",
    "        for i, li in enumerate(check_list):\n",
    "            #print(i, type(li.text), li.text)\n",
    "            if \"리뷰\" in li.text: \n",
    "                find_i = i+1  # python index + 1\n",
    "                driver.find_element(By.CSS_SELECTOR, f'div.place_fixed_maintab > div > div > div > div.flicking-camera > a:nth-child({find_i})').click()\n",
    "                check_list = driver.find_elements(By.CSS_SELECTOR, 'div.place_fixed_maintab > div > div > div > div.flicking-camera > a > span.veBoZ')\n",
    "\n",
    "                # 이런점이 좋아요 정보 크롤링\n",
    "                these_good_list = []\n",
    "                try:\n",
    "                    these_good_count = int(driver.find_element(By.CSS_SELECTOR, '#app-root > div > div > div > div:nth-child(7) > div:nth-child(3) > div.place_section.no_margin.mdJ86 > div > div > div._Wmab > em').text)\n",
    "                    print('these_good_count: ', these_good_count)\n",
    "                except:\n",
    "                    print(\"이런점이 좋아요 정보가 없습니다\")\n",
    "                    these_good_list = None                \n",
    "                else:\n",
    "                    # \"이런점이 좋았어요\" 더보기 다 눌러 놓기\n",
    "                    while True:\n",
    "                        try:\n",
    "                            driver.find_element(By.CSS_SELECTOR, '#app-root > div > div > div > div:nth-child(7) > div:nth-child(3) > div.place_section.no_margin.mdJ86 > div > div > div.k2tmh > a.Tvx37').click()\n",
    "                            driver.implicitly_wait(1)\n",
    "                        except:\n",
    "                            break\n",
    "                        \n",
    "                    # 이런점이 좋아요, 딕셔너리로 {'리뷰':좋아요개수}\n",
    "                    these_good = driver.find_elements(By.CSS_SELECTOR, 'div.place_section.no_margin.mdJ86 > div > div > div.k2tmh > ul > li')\n",
    "                    for i, li in enumerate(these_good):\n",
    "                        these_good_list.append({li.text.split(\"\\n\")[0].strip().replace('\"',\"\"): int(li.text.split(\"\\n\")[2].strip())})\n",
    "                    print(\"these_good_list: \", these_good_list)\n",
    "                    these_good_list_join=''\n",
    "                    for i, item in enumerate(these_good_list):\n",
    "                        #print(str(item))\n",
    "                        if i == len(these_good_list)-1:\n",
    "                            these_good_list_join += str(item)\n",
    "                        else:\n",
    "                            #these_good_list_join += str(item) + '\\n'\n",
    "                            these_good_list_join += str(item) + ','\n"
   ]
  },
  {
   "cell_type": "code",
   "execution_count": 58,
   "metadata": {},
   "outputs": [
    {
     "data": {
      "text/plain": [
       "<bound method WebDriver.close of <selenium.webdriver.chrome.webdriver.WebDriver (session=\"1d401a8854411add424658c3c27d516c\")>>"
      ]
     },
     "execution_count": 58,
     "metadata": {},
     "output_type": "execute_result"
    }
   ],
   "source": [
    "driver.close"
   ]
  }
 ],
 "metadata": {
  "kernelspec": {
   "display_name": ".venv",
   "language": "python",
   "name": "python3"
  },
  "language_info": {
   "codemirror_mode": {
    "name": "ipython",
    "version": 3
   },
   "file_extension": ".py",
   "mimetype": "text/x-python",
   "name": "python",
   "nbconvert_exporter": "python",
   "pygments_lexer": "ipython3",
   "version": "3.8.7"
  },
  "orig_nbformat": 4
 },
 "nbformat": 4,
 "nbformat_minor": 2
}
