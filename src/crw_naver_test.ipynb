{
 "cells": [
  {
   "cell_type": "code",
   "execution_count": 1,
   "metadata": {},
   "outputs": [],
   "source": [
    "import requests\n",
    "from bs4 import BeautifulSoup\n",
    "import pandas as pd\n",
    "import time\n",
    "from tqdm.notebook import tqdm\n",
    "import re \n",
    "\n",
    "from selenium import webdriver\n",
    "from selenium.webdriver.common.keys import Keys\n",
    "from selenium.webdriver.common.by import By\n",
    "from webdriver_manager.chrome import ChromeDriverManager\n",
    "from selenium.webdriver.chrome.service import Service\n"
   ]
  },
  {
   "cell_type": "code",
   "execution_count": 2,
   "metadata": {},
   "outputs": [
    {
     "name": "stdout",
     "output_type": "stream",
     "text": [
      "<class 'pandas.core.frame.DataFrame'>\n",
      "RangeIndex: 610 entries, 0 to 609\n",
      "Data columns (total 13 columns):\n",
      " #   Column      Non-Null Count  Dtype  \n",
      "---  ------      --------------  -----  \n",
      " 0   Unnamed: 0  610 non-null    int64  \n",
      " 1   사업장명        610 non-null    object \n",
      " 2   지번주소        610 non-null    object \n",
      " 3   도로명주소       602 non-null    object \n",
      " 4   위도          583 non-null    float64\n",
      " 5   경도          583 non-null    float64\n",
      " 6   인허가일자       610 non-null    object \n",
      " 7   인허가취소일자     1 non-null      float64\n",
      " 8   영업상태코드      610 non-null    int64  \n",
      " 9   폐업일자        136 non-null    object \n",
      " 10  휴업시작일자      9 non-null      object \n",
      " 11  휴업종료일자      9 non-null      object \n",
      " 12  재개업일자       0 non-null      float64\n",
      "dtypes: float64(4), int64(2), object(7)\n",
      "memory usage: 62.1+ KB\n"
     ]
    }
   ],
   "source": [
    "# 서울시 숙소 리스트 로드\n",
    "df = pd.read_csv('../DAIN/crw_list.txt')\n",
    "df.info()"
   ]
  },
  {
   "cell_type": "code",
   "execution_count": 3,
   "metadata": {},
   "outputs": [],
   "source": [
    "# 크롬 드라이버 시작\n",
    "chrome_options = webdriver.ChromeOptions()              # 옵션값 사용\n",
    "chrome_options.add_experimental_option(\"detach\",True)   # 브라우저 꺼짐 방지\n",
    "driver = webdriver.Chrome(service=Service(ChromeDriverManager().install(), options = chrome_options))\n",
    "#driver = webdriver.Chrome()"
   ]
  },
  {
   "cell_type": "code",
   "execution_count": 4,
   "metadata": {},
   "outputs": [],
   "source": [
    "driver.get(\"https://map.naver.com/v5\")\n",
    "driver.implicitly_wait(5)\n",
    "#driver.maximize_window()"
   ]
  },
  {
   "cell_type": "code",
   "execution_count": 5,
   "metadata": {},
   "outputs": [],
   "source": [
    "# 검색 트리\n",
    "#driver.find_element(By.CLASS_NAME, 'input_search').send_keys('이비스 앰배서더 명동', ',  ', '서울특별시 중구 명동1가 59-5')\n",
    "#driver.find_element(By.CLASS_NAME, 'input_search').send_keys('호텔 데님(Hotel Denim)',', ', '서울특별시 강남구 논현로 66 (개포동)')\n",
    "#driver.find_element(By.CLASS_NAME, 'input_search').send_keys('티마크그랜드호텔명동', ', ', '서울특별시 중구 회현동1가 194-15')\n",
    "#driver.find_element(By.CLASS_NAME, 'input_search').send_keys('위너스', ', ', '서울특별시 금천구 독산동 335-21')\n",
    "#driver.find_element(By.CLASS_NAME, 'input_search').send_keys('데이즈 호텔 명동', ', ', '서울특별시 중구 충무로1가 24-30')\n",
    "#driver.find_element(By.CLASS_NAME, 'input_search').send_keys('삼화', ', ', '서울특별시 관악구 신림동 1432-62')\n",
    "#driver.find_element(By.CLASS_NAME, 'input_search').send_keys('나이스타임 관광호텔', ', ', '서울특별시 관악구 신림동 1422-18')\n",
    "driver.find_element(By.CLASS_NAME, 'input_search').send_keys('써클호텔', ', ', '서울특별시 마포구 합정동 382-17번지')\n",
    "driver.find_element(By.CLASS_NAME, 'input_search').send_keys(Keys.ENTER)\n",
    "driver.implicitly_wait(5)\n",
    "driver.switch_to.frame(\"searchIframe\")"
   ]
  },
  {
   "cell_type": "code",
   "execution_count": 6,
   "metadata": {},
   "outputs": [
    {
     "name": "stdout",
     "output_type": "stream",
     "text": [
      "주소검색결과 개수: 0\n"
     ]
    }
   ],
   "source": [
    "#식당 정보가 있다면 첫번째 식당의 url을 가져오기    \n",
    "search_result = driver.find_elements(by=By.XPATH, value='//*[@id=\"_pcmap_list_scroll_container\"]/ul/li')\n",
    "count_search_result = len(driver.find_elements(by=By.XPATH, value='//*[@id=\"_pcmap_list_scroll_container\"]/ul/li'))\n",
    "print(f\"주소검색결과 개수: {count_search_result}\")\n",
    "if count_search_result == 0:   \n",
    "    pass\n",
    "elif count_search_result > 1:\n",
    "    #식당 정보 클릭        \n",
    "    driver.execute_script('return document.querySelector(\"#_pcmap_list_scroll_container > ul > li:nth-child(1) > div.qbGlu > div> a:nth-child(1)\").click()')\n",
    "    driver.implicitly_wait(2)\n",
    "else:\n",
    "    print('검색 결과 한개, 새창 없음')"
   ]
  },
  {
   "cell_type": "code",
   "execution_count": 7,
   "metadata": {},
   "outputs": [
    {
     "ename": "NoSuchElementException",
     "evalue": "Message: no such element: Unable to locate element: {\"method\":\"css selector\",\"selector\":\"[id=\"entryIframe\"]\"}\n  (Session info: chrome=112.0.5615.137)\nStacktrace:\n0   chromedriver                        0x0000000100a44ae8 chromedriver + 4958952\n1   chromedriver                        0x0000000100a3c7b3 chromedriver + 4925363\n2   chromedriver                        0x00000001005fe1d6 chromedriver + 475606\n3   chromedriver                        0x0000000100641a20 chromedriver + 752160\n4   chromedriver                        0x0000000100641c81 chromedriver + 752769\n5   chromedriver                        0x0000000100685f64 chromedriver + 1032036\n6   chromedriver                        0x0000000100667c3d chromedriver + 908349\n7   chromedriver                        0x000000010068325b chromedriver + 1020507\n8   chromedriver                        0x00000001006679e3 chromedriver + 907747\n9   chromedriver                        0x0000000100631aef chromedriver + 686831\n10  chromedriver                        0x000000010063300e chromedriver + 692238\n11  chromedriver                        0x0000000100a009ad chromedriver + 4680109\n12  chromedriver                        0x0000000100a05c12 chromedriver + 4701202\n13  chromedriver                        0x0000000100a0c79f chromedriver + 4728735\n14  chromedriver                        0x0000000100a06b7a chromedriver + 4705146\n15  chromedriver                        0x00000001009d927e chromedriver + 4518526\n16  chromedriver                        0x0000000100a26908 chromedriver + 4835592\n17  chromedriver                        0x0000000100a26a87 chromedriver + 4835975\n18  chromedriver                        0x0000000100a3600f chromedriver + 4898831\n19  libsystem_pthread.dylib             0x00007ff812aec4e1 _pthread_start + 125\n20  libsystem_pthread.dylib             0x00007ff812ae7f6b thread_start + 15\n",
     "output_type": "error",
     "traceback": [
      "\u001b[0;31m---------------------------------------------------------------------------\u001b[0m",
      "\u001b[0;31mNoSuchElementException\u001b[0m                    Traceback (most recent call last)",
      "Cell \u001b[0;32mIn[7], line 3\u001b[0m\n\u001b[1;32m      1\u001b[0m \u001b[39m# 검색후 오른쪽 확장 탭으로 전환\u001b[39;00m\n\u001b[1;32m      2\u001b[0m driver\u001b[39m.\u001b[39mswitch_to\u001b[39m.\u001b[39mdefault_content()\n\u001b[0;32m----> 3\u001b[0m detail_iframe \u001b[39m=\u001b[39m driver\u001b[39m.\u001b[39;49mfind_element(By\u001b[39m.\u001b[39;49mID, \u001b[39m'\u001b[39;49m\u001b[39mentryIframe\u001b[39;49m\u001b[39m'\u001b[39;49m)\n\u001b[1;32m      4\u001b[0m driver\u001b[39m.\u001b[39mswitch_to\u001b[39m.\u001b[39mframe(detail_iframe)\n\u001b[1;32m      5\u001b[0m \u001b[39m# driver.switch_to.frame('entryIframe') # 그냥하면 안됨\u001b[39;00m\n",
      "File \u001b[0;32m/usr/local/lib/python3.8/site-packages/selenium/webdriver/remote/webdriver.py:831\u001b[0m, in \u001b[0;36mWebDriver.find_element\u001b[0;34m(self, by, value)\u001b[0m\n\u001b[1;32m    828\u001b[0m     by \u001b[39m=\u001b[39m By\u001b[39m.\u001b[39mCSS_SELECTOR\n\u001b[1;32m    829\u001b[0m     value \u001b[39m=\u001b[39m \u001b[39mf\u001b[39m\u001b[39m'\u001b[39m\u001b[39m[name=\u001b[39m\u001b[39m\"\u001b[39m\u001b[39m{\u001b[39;00mvalue\u001b[39m}\u001b[39;00m\u001b[39m\"\u001b[39m\u001b[39m]\u001b[39m\u001b[39m'\u001b[39m\n\u001b[0;32m--> 831\u001b[0m \u001b[39mreturn\u001b[39;00m \u001b[39mself\u001b[39;49m\u001b[39m.\u001b[39;49mexecute(Command\u001b[39m.\u001b[39;49mFIND_ELEMENT, {\u001b[39m\"\u001b[39;49m\u001b[39musing\u001b[39;49m\u001b[39m\"\u001b[39;49m: by, \u001b[39m\"\u001b[39;49m\u001b[39mvalue\u001b[39;49m\u001b[39m\"\u001b[39;49m: value})[\u001b[39m\"\u001b[39m\u001b[39mvalue\u001b[39m\u001b[39m\"\u001b[39m]\n",
      "File \u001b[0;32m/usr/local/lib/python3.8/site-packages/selenium/webdriver/remote/webdriver.py:440\u001b[0m, in \u001b[0;36mWebDriver.execute\u001b[0;34m(self, driver_command, params)\u001b[0m\n\u001b[1;32m    438\u001b[0m response \u001b[39m=\u001b[39m \u001b[39mself\u001b[39m\u001b[39m.\u001b[39mcommand_executor\u001b[39m.\u001b[39mexecute(driver_command, params)\n\u001b[1;32m    439\u001b[0m \u001b[39mif\u001b[39;00m response:\n\u001b[0;32m--> 440\u001b[0m     \u001b[39mself\u001b[39;49m\u001b[39m.\u001b[39;49merror_handler\u001b[39m.\u001b[39;49mcheck_response(response)\n\u001b[1;32m    441\u001b[0m     response[\u001b[39m\"\u001b[39m\u001b[39mvalue\u001b[39m\u001b[39m\"\u001b[39m] \u001b[39m=\u001b[39m \u001b[39mself\u001b[39m\u001b[39m.\u001b[39m_unwrap_value(response\u001b[39m.\u001b[39mget(\u001b[39m\"\u001b[39m\u001b[39mvalue\u001b[39m\u001b[39m\"\u001b[39m, \u001b[39mNone\u001b[39;00m))\n\u001b[1;32m    442\u001b[0m     \u001b[39mreturn\u001b[39;00m response\n",
      "File \u001b[0;32m/usr/local/lib/python3.8/site-packages/selenium/webdriver/remote/errorhandler.py:245\u001b[0m, in \u001b[0;36mErrorHandler.check_response\u001b[0;34m(self, response)\u001b[0m\n\u001b[1;32m    243\u001b[0m         alert_text \u001b[39m=\u001b[39m value[\u001b[39m\"\u001b[39m\u001b[39malert\u001b[39m\u001b[39m\"\u001b[39m]\u001b[39m.\u001b[39mget(\u001b[39m\"\u001b[39m\u001b[39mtext\u001b[39m\u001b[39m\"\u001b[39m)\n\u001b[1;32m    244\u001b[0m     \u001b[39mraise\u001b[39;00m exception_class(message, screen, stacktrace, alert_text)  \u001b[39m# type: ignore[call-arg]  # mypy is not smart enough here\u001b[39;00m\n\u001b[0;32m--> 245\u001b[0m \u001b[39mraise\u001b[39;00m exception_class(message, screen, stacktrace)\n",
      "\u001b[0;31mNoSuchElementException\u001b[0m: Message: no such element: Unable to locate element: {\"method\":\"css selector\",\"selector\":\"[id=\"entryIframe\"]\"}\n  (Session info: chrome=112.0.5615.137)\nStacktrace:\n0   chromedriver                        0x0000000100a44ae8 chromedriver + 4958952\n1   chromedriver                        0x0000000100a3c7b3 chromedriver + 4925363\n2   chromedriver                        0x00000001005fe1d6 chromedriver + 475606\n3   chromedriver                        0x0000000100641a20 chromedriver + 752160\n4   chromedriver                        0x0000000100641c81 chromedriver + 752769\n5   chromedriver                        0x0000000100685f64 chromedriver + 1032036\n6   chromedriver                        0x0000000100667c3d chromedriver + 908349\n7   chromedriver                        0x000000010068325b chromedriver + 1020507\n8   chromedriver                        0x00000001006679e3 chromedriver + 907747\n9   chromedriver                        0x0000000100631aef chromedriver + 686831\n10  chromedriver                        0x000000010063300e chromedriver + 692238\n11  chromedriver                        0x0000000100a009ad chromedriver + 4680109\n12  chromedriver                        0x0000000100a05c12 chromedriver + 4701202\n13  chromedriver                        0x0000000100a0c79f chromedriver + 4728735\n14  chromedriver                        0x0000000100a06b7a chromedriver + 4705146\n15  chromedriver                        0x00000001009d927e chromedriver + 4518526\n16  chromedriver                        0x0000000100a26908 chromedriver + 4835592\n17  chromedriver                        0x0000000100a26a87 chromedriver + 4835975\n18  chromedriver                        0x0000000100a3600f chromedriver + 4898831\n19  libsystem_pthread.dylib             0x00007ff812aec4e1 _pthread_start + 125\n20  libsystem_pthread.dylib             0x00007ff812ae7f6b thread_start + 15\n"
     ]
    }
   ],
   "source": [
    "# 검색후 오른쪽 확장 탭으로 전환\n",
    "driver.switch_to.default_content()\n",
    "detail_iframe = driver.find_element(By.ID, 'entryIframe')\n",
    "driver.switch_to.frame(detail_iframe)\n",
    "# driver.switch_to.frame('entryIframe') # 그냥하면 안됨\n",
    "\n",
    "\n",
    "star_score = None\n",
    "stn_type = None\n",
    "visitor_review_count = None\n",
    "blog_review_count = None\n",
    "dist_from_stn = None\n",
    "time_from_stn = None\n",
    "facilitys_list_join = None\n",
    "these_good_count = None\n",
    "these_good_list_join = None\n",
    "\n",
    "\n",
    "# 별점\n",
    "try:\n",
    "    star_score = float(driver.find_element(By.CSS_SELECTOR, '#app-root > div > div > div > div.place_section.OP4V8 > div.zD5Nm.f7aZ0 > div.dAsGb > span.PXMot.LXIwF > em').text)\n",
    "except:\n",
    "    pass\n",
    "print(\"star_score: \", star_score)\n",
    "# 업소유형\n",
    "try:\n",
    "    stn_type = driver.find_element(By.CSS_SELECTOR, '#_title > span.DJJvD').text\n",
    "except:\n",
    "    pass\n",
    "print(\"stn_type: \", stn_type)\n",
    "# 블로그 리뷰 수 & 방문자 리뷰 수\n",
    "# 방문자\n",
    "try:\n",
    "    visitor_review_count = int(driver.find_element(By.XPATH, '//*[@id=\"app-root\"]/div/div/div/div[2]/div[1]/div[2]/span[2]/a/em').text)\n",
    "except:\n",
    "    pass\n",
    "print(\"visitor_review_count: \", visitor_review_count)\n",
    "# 블로그\n",
    "try:\n",
    "    blog_review_count = driver.find_element(By.XPATH, '//*[@id=\"app-root\"]/div/div/div/div[2]/div[1]/div[2]/span[3]/a/em').text\n",
    "except:\n",
    "    pass\n",
    "print(\"blog_review_count: \", blog_review_count)\n",
    "# 가까운 지하철 역에서 거리 / 도보시간\n",
    "# 거리\n",
    "try:\n",
    "    dist_from_stn = driver.find_element(By.CSS_SELECTOR, 'div.O8qbU.tQY7D > div > div > em').text\n",
    "except:\n",
    "    pass\n",
    "print(\"dist_from_stn: \", dist_from_stn)\n",
    "# 시간\n",
    "try:\n",
    "    time_text = driver.find_element(By.XPATH, '//*[@id=\"app-root\"]/div/div/div/div[6]/div/div[2]/div/div/div[2]/div/div/div/span').text\n",
    "    #print(\"time_text: \", time_text)\n",
    "    p = re.compile('[0-9]+분')\n",
    "    time_from_stn = p.findall(time_text)            \n",
    "except:\n",
    "    pass\n",
    "print(\"time_from_stn: \", time_from_stn)\n",
    "# 주요시설\n",
    "facilitys_list = []\n",
    "try:\n",
    "    facilitys = driver.find_elements(By.CSS_SELECTOR, 'div.place_section_content > div > div.fusPl > ul > li')\n",
    "    for li in facilitys:\n",
    "        facilitys_list.append(li.text.strip())\n",
    "except:\n",
    "    facilitys_list = None\n",
    "#facilitys_list_join = \"\\n\".join(facilitys_list)\n",
    "facilitys_list_join = \",\".join(facilitys_list)\n",
    "print(\"facilitys_list: \", facilitys_list)\n",
    "\n",
    "# .. 리뷰 클릭\n",
    "try:    # 홈, 리뷰 탭이 있는지 없는지 확인\n",
    "    check_list = driver.find_elements(By.CSS_SELECTOR, 'div.place_fixed_maintab > div > div > div > div.flicking-camera > a.tpj9w._tab-menu > span.veBoZ')\n",
    "    for i, li in enumerate(check_list):\n",
    "        print(f\"print check_list {i}: \", li.text)\n",
    "except:\n",
    "    pass\n",
    "else:\n",
    "    # 리뷰 버튼이 있으면 클릭\n",
    "    if check_list:\n",
    "        for i, li in enumerate(check_list):\n",
    "            #print(i, type(li.text), li.text)\n",
    "            if \"리뷰\" in li.text: \n",
    "                find_i = i+1  # python index + 1\n",
    "                driver.find_element(By.CSS_SELECTOR, f'div.place_fixed_maintab > div > div > div > div.flicking-camera > a:nth-child({find_i})').click()\n",
    "                check_list = driver.find_elements(By.CSS_SELECTOR, 'div.place_fixed_maintab > div > div > div > div.flicking-camera > a > span.veBoZ')\n",
    "\n",
    "                # 이런점이 좋아요 정보 크롤링\n",
    "                these_good_list = []\n",
    "                try:\n",
    "                    these_good_count = int(driver.find_element(By.CSS_SELECTOR, '#app-root > div > div > div > div:nth-child(7) > div:nth-child(3) > div.place_section.no_margin.mdJ86 > div > div > div._Wmab > em').text)\n",
    "                    print('these_good_count: ', these_good_count)\n",
    "                except:\n",
    "                    print(\"이런점이 좋아요 정보가 없습니다\")\n",
    "                    these_good_list = None                \n",
    "                else:\n",
    "                    # \"이런점이 좋았어요\" 더보기 다 눌러 놓기\n",
    "                    while True:\n",
    "                        try:\n",
    "                            driver.find_element(By.CSS_SELECTOR, '#app-root > div > div > div > div:nth-child(7) > div:nth-child(3) > div.place_section.no_margin.mdJ86 > div > div > div.k2tmh > a.Tvx37').click()\n",
    "                            driver.implicitly_wait(1)\n",
    "                        except:\n",
    "                            break\n",
    "                        \n",
    "                    # 이런점이 좋아요, 딕셔너리로 {'리뷰':좋아요개수}\n",
    "                    these_good = driver.find_elements(By.CSS_SELECTOR, 'div.place_section.no_margin.mdJ86 > div > div > div.k2tmh > ul > li')\n",
    "                    for i, li in enumerate(these_good):\n",
    "                        these_good_list.append({li.text.split(\"\\n\")[0].strip().replace('\"',\"\"): int(li.text.split(\"\\n\")[2].strip())})\n",
    "                    print(\"these_good_list: \", these_good_list)\n",
    "                    these_good_list_join=''\n",
    "                    for i, item in enumerate(these_good_list):\n",
    "                        #print(str(item))\n",
    "                        if i == len(these_good_list)-1:\n",
    "                            these_good_list_join += str(item)\n",
    "                        else:\n",
    "                            #these_good_list_join += str(item) + '\\n'\n",
    "                            these_good_list_join += str(item) + ','\n"
   ]
  },
  {
   "cell_type": "code",
   "execution_count": 58,
   "metadata": {},
   "outputs": [
    {
     "data": {
      "text/plain": [
       "<bound method WebDriver.close of <selenium.webdriver.chrome.webdriver.WebDriver (session=\"1d401a8854411add424658c3c27d516c\")>>"
      ]
     },
     "execution_count": 58,
     "metadata": {},
     "output_type": "execute_result"
    }
   ],
   "source": [
    "driver.close"
   ]
  }
 ],
 "metadata": {
  "kernelspec": {
   "display_name": ".venv",
   "language": "python",
   "name": "python3"
  },
  "language_info": {
   "codemirror_mode": {
    "name": "ipython",
    "version": 3
   },
   "file_extension": ".py",
   "mimetype": "text/x-python",
   "name": "python",
   "nbconvert_exporter": "python",
   "pygments_lexer": "ipython3",
   "version": "3.8.16"
  },
  "orig_nbformat": 4
 },
 "nbformat": 4,
 "nbformat_minor": 2
}
