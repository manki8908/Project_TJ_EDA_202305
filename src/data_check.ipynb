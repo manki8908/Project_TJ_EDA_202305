{
 "cells": [
  {
   "cell_type": "code",
   "execution_count": 2,
   "metadata": {},
   "outputs": [],
   "source": [
    "import numpy as np\n",
    "import pandas as pd\n",
    "#from haversine import haversine, Unit\n",
    "import geopy.distance"
   ]
  },
  {
   "cell_type": "code",
   "execution_count": 3,
   "metadata": {},
   "outputs": [
    {
     "name": "stdout",
     "output_type": "stream",
     "text": [
      "<class 'pandas.core.frame.DataFrame'>\n",
      "Index: 610 entries, 0 to 0\n",
      "Data columns (total 27 columns):\n",
      " #   Column                  Non-Null Count  Dtype  \n",
      "---  ------                  --------------  -----  \n",
      " 0   사업장명                    610 non-null    object \n",
      " 1   업소유형                    251 non-null    object \n",
      " 2   관광숙박업상세명                319 non-null    object \n",
      " 3   건물용도명                   209 non-null    object \n",
      " 4   지번주소                    610 non-null    object \n",
      " 5   도로명주소                   602 non-null    object \n",
      " 6   위도                      583 non-null    float64\n",
      " 7   경도                      583 non-null    float64\n",
      " 8   별점                      172 non-null    float64\n",
      " 9   방문자 리뷰수                 231 non-null    object \n",
      " 10  블로그 리뷰수                 229 non-null    object \n",
      " 11  지하철역과의 거리               177 non-null    object \n",
      " 12  도보시간                    37 non-null     object \n",
      " 13  객실수                     307 non-null    float64\n",
      " 14  시설면적                    358 non-null    float64\n",
      " 15  시설규모                    358 non-null    float64\n",
      " 16  구비시설                    107 non-null    object \n",
      " 17  네이버 이런점이 좋아요 총합         164 non-null    float64\n",
      " 18  네이버 이런점이 좋아요 {항목:좋아요수}  164 non-null    object \n",
      " 19  데이터갱신일자                 610 non-null    object \n",
      " 20  인허가일자                   610 non-null    object \n",
      " 21  인허가취소일자                 1 non-null      float64\n",
      " 22  영업상태코드                  610 non-null    int64  \n",
      " 23  폐업일자                    136 non-null    object \n",
      " 24  휴업시작일자                  9 non-null      object \n",
      " 25  휴업종료일자                  9 non-null      object \n",
      " 26  재개업일자                   0 non-null      float64\n",
      "dtypes: float64(9), int64(1), object(17)\n",
      "memory usage: 133.4+ KB\n"
     ]
    }
   ],
   "source": [
    "small_df = pd.read_csv('../DAOU/test_small_out_v1.csv', index_col=0, encoding='euc-kr')\n",
    "small_df['네이버 이런점이 좋아요 {항목:좋아요수}'].notnull\n",
    "small_df.info()"
   ]
  },
  {
   "cell_type": "code",
   "execution_count": 5,
   "metadata": {},
   "outputs": [
    {
     "name": "stdout",
     "output_type": "stream",
     "text": [
      "<class 'pandas.core.frame.DataFrame'>\n",
      "Index: 6664 entries, 0 to 0\n",
      "Data columns (total 26 columns):\n",
      " #   Column                  Non-Null Count  Dtype  \n",
      "---  ------                  --------------  -----  \n",
      " 0   사업장명                    6664 non-null   object \n",
      " 1   업소유형                    874 non-null    object \n",
      " 2   업태구분명                   6664 non-null   object \n",
      " 3   지번주소                    6653 non-null   object \n",
      " 4   도로명주소                   3986 non-null   object \n",
      " 5   위도                      5287 non-null   float64\n",
      " 6   경도                      5287 non-null   float64\n",
      " 7   별점                      310 non-null    float64\n",
      " 8   방문자 리뷰수                 685 non-null    object \n",
      " 9   블로그 리뷰수                 513 non-null    object \n",
      " 10  지하철역과의 거리               774 non-null    object \n",
      " 11  도보시간                    94 non-null     object \n",
      " 12  한실수                     5434 non-null   float64\n",
      " 13  양실수                     5347 non-null   float64\n",
      " 14  욕실수                     4813 non-null   float64\n",
      " 15  구비시설                    107 non-null    object \n",
      " 16  네이버 이런점이 좋아요 총합         191 non-null    float64\n",
      " 17  네이버 이런점이 좋아요 {항목:좋아요수}  191 non-null    object \n",
      " 18  데이터갱신일자                 6664 non-null   object \n",
      " 19  인허가일자                   6664 non-null   object \n",
      " 20  인허가취소일자                 0 non-null      float64\n",
      " 21  영업상태코드                  6664 non-null   int64  \n",
      " 22  폐업일자                    4173 non-null   object \n",
      " 23  휴업시작일자                  0 non-null      float64\n",
      " 24  휴업종료일자                  0 non-null      float64\n",
      " 25  재개업일자                   0 non-null      float64\n",
      "dtypes: float64(11), int64(1), object(14)\n",
      "memory usage: 1.4+ MB\n"
     ]
    }
   ],
   "source": [
    "large_df = pd.read_csv('../DAOU/test_large_out_v1.csv', index_col=0, encoding='euc-kr')\n",
    "large_df.info()"
   ]
  },
  {
   "cell_type": "code",
   "execution_count": 6,
   "metadata": {},
   "outputs": [
    {
     "data": {
      "text/html": [
       "<div>\n",
       "<style scoped>\n",
       "    .dataframe tbody tr th:only-of-type {\n",
       "        vertical-align: middle;\n",
       "    }\n",
       "\n",
       "    .dataframe tbody tr th {\n",
       "        vertical-align: top;\n",
       "    }\n",
       "\n",
       "    .dataframe thead th {\n",
       "        text-align: right;\n",
       "    }\n",
       "</style>\n",
       "<table border=\"1\" class=\"dataframe\">\n",
       "  <thead>\n",
       "    <tr style=\"text-align: right;\">\n",
       "      <th></th>\n",
       "      <th>역사명</th>\n",
       "      <th>호선</th>\n",
       "      <th>위도</th>\n",
       "      <th>경도</th>\n",
       "    </tr>\n",
       "    <tr>\n",
       "      <th>역사_ID</th>\n",
       "      <th></th>\n",
       "      <th></th>\n",
       "      <th></th>\n",
       "      <th></th>\n",
       "    </tr>\n",
       "  </thead>\n",
       "  <tbody>\n",
       "    <tr>\n",
       "      <th>9996</th>\n",
       "      <td>미사</td>\n",
       "      <td>5호선</td>\n",
       "      <td>127.193877</td>\n",
       "      <td>37.560927</td>\n",
       "    </tr>\n",
       "    <tr>\n",
       "      <th>9995</th>\n",
       "      <td>강일</td>\n",
       "      <td>5호선</td>\n",
       "      <td>127.175930</td>\n",
       "      <td>37.557490</td>\n",
       "    </tr>\n",
       "    <tr>\n",
       "      <th>4929</th>\n",
       "      <td>김포공항</td>\n",
       "      <td>김포골드라인</td>\n",
       "      <td>126.801868</td>\n",
       "      <td>37.562360</td>\n",
       "    </tr>\n",
       "    <tr>\n",
       "      <th>4928</th>\n",
       "      <td>고촌</td>\n",
       "      <td>김포골드라인</td>\n",
       "      <td>126.770345</td>\n",
       "      <td>37.601243</td>\n",
       "    </tr>\n",
       "    <tr>\n",
       "      <th>4927</th>\n",
       "      <td>풍무</td>\n",
       "      <td>김포골드라인</td>\n",
       "      <td>126.732387</td>\n",
       "      <td>37.612488</td>\n",
       "    </tr>\n",
       "    <tr>\n",
       "      <th>...</th>\n",
       "      <td>...</td>\n",
       "      <td>...</td>\n",
       "      <td>...</td>\n",
       "      <td>...</td>\n",
       "    </tr>\n",
       "    <tr>\n",
       "      <th>154</th>\n",
       "      <td>종로5가</td>\n",
       "      <td>1호선</td>\n",
       "      <td>127.001849</td>\n",
       "      <td>37.570926</td>\n",
       "    </tr>\n",
       "    <tr>\n",
       "      <th>153</th>\n",
       "      <td>종로3가</td>\n",
       "      <td>1호선</td>\n",
       "      <td>126.991847</td>\n",
       "      <td>37.570406</td>\n",
       "    </tr>\n",
       "    <tr>\n",
       "      <th>152</th>\n",
       "      <td>종각</td>\n",
       "      <td>1호선</td>\n",
       "      <td>126.982923</td>\n",
       "      <td>37.570161</td>\n",
       "    </tr>\n",
       "    <tr>\n",
       "      <th>151</th>\n",
       "      <td>시청</td>\n",
       "      <td>1호선</td>\n",
       "      <td>126.977088</td>\n",
       "      <td>37.565715</td>\n",
       "    </tr>\n",
       "    <tr>\n",
       "      <th>150</th>\n",
       "      <td>서울역</td>\n",
       "      <td>1호선</td>\n",
       "      <td>126.972135</td>\n",
       "      <td>37.556228</td>\n",
       "    </tr>\n",
       "  </tbody>\n",
       "</table>\n",
       "<p>765 rows × 4 columns</p>\n",
       "</div>"
      ],
      "text/plain": [
       "        역사명      호선          위도         경도\n",
       "역사_ID                                     \n",
       "9996     미사     5호선  127.193877  37.560927\n",
       "9995     강일     5호선  127.175930  37.557490\n",
       "4929   김포공항  김포골드라인  126.801868  37.562360\n",
       "4928     고촌  김포골드라인  126.770345  37.601243\n",
       "4927     풍무  김포골드라인  126.732387  37.612488\n",
       "...     ...     ...         ...        ...\n",
       "154    종로5가     1호선  127.001849  37.570926\n",
       "153    종로3가     1호선  126.991847  37.570406\n",
       "152      종각     1호선  126.982923  37.570161\n",
       "151      시청     1호선  126.977088  37.565715\n",
       "150     서울역     1호선  126.972135  37.556228\n",
       "\n",
       "[765 rows x 4 columns]"
      ]
     },
     "execution_count": 6,
     "metadata": {},
     "output_type": "execute_result"
    }
   ],
   "source": [
    "subway = pd.read_csv('../DABA/서울시 역사마스터 정보.csv', index_col=0, encoding='euc-kr')\n",
    "subway"
   ]
  },
  {
   "cell_type": "code",
   "execution_count": 7,
   "metadata": {},
   "outputs": [
    {
     "name": "stdout",
     "output_type": "stream",
     "text": [
      "nan\n"
     ]
    }
   ],
   "source": [
    "small_df.iloc[0]['사업장명']\n",
    "\n",
    "print(np.nan)"
   ]
  },
  {
   "cell_type": "code",
   "execution_count": 8,
   "metadata": {},
   "outputs": [
    {
     "name": "stdout",
     "output_type": "stream",
     "text": [
      "호텔:호텔 데님(Hotel Denim) 서울특별시 강남구 개포동 1229-14 14.564084513399296km\n",
      "호텔:티마크그랜드호텔명동 서울특별시 중구 회현동1가 194-15 15.625118138255038km\n",
      "호텔:위너스 서울특별시 금천구 독산동 335-21 12.693338583264687km\n",
      "호텔:데이즈 호텔 명동 서울특별시 중구 충무로1가 24-30 16.06001499294476km\n",
      "호텔:강남패밀리호텔 서울특별시 강남구 논현동 205-8 14.073851124956787km\n",
      "호텔:(주)서부티엔디 노보텔 앰배서더 서울 용산 서울특별시 용산구 한강로3가 40-969 서울드래곤시티 14.616508231659902km\n",
      "호텔:남산스토리 나인 서울특별시 중구 회현동1가 100-104 15.82193413541239km\n",
      "호텔:롯데시티호텔명동 서울특별시 중구 장교동 74 16.459139611746323km\n",
      "호텔:ROJIN(로진) 서울특별시 영등포구 양평동1가 136 8.898652027355384km\n",
      "호텔:아난티 앳 강남 서울특별시 강남구 논현동 74-6 13.672214359877108km\n"
     ]
    }
   ],
   "source": [
    "# .. 가까운 지하철 거리 및 도보 시간 구하기\n",
    "# 가까운 지하철 구하기\n",
    "\n",
    "small_dist = []\n",
    "\n",
    "#for i in range(small_df.shape[0]):\n",
    "for i in range(10):\n",
    "    #for j in range(subway.shape[0]):\n",
    "    dummy = []\n",
    "\n",
    "    for j in range(10):\n",
    "\n",
    "        if not(small_df.iloc[i]['위도'] == np.nan ) :\n",
    "            hotel_latlon = (small_df.iloc[i]['위도'], small_df.iloc[i]['경도'])\n",
    "            subway_latlon = (subway.iloc[j]['경도'], subway.iloc[j]['위도'])    # 원본데이터에서 위경도 컬럼명 바뀌어 있음\n",
    "\n",
    "            dist = geopy.distance.geodesic(hotel_latlon, subway_latlon).km\n",
    "            dummy.append(dist)\n",
    "        else:\n",
    "            dummy.append(99999999)\n",
    "\n",
    "    print(f\"호텔:{small_df.iloc[i]['사업장명']} {small_df.iloc[i]['지번주소']} {min(dummy)}km\")\n",
    "    small_dist.append(min(dummy))\n",
    "\n"
   ]
  },
  {
   "cell_type": "code",
   "execution_count": 9,
   "metadata": {},
   "outputs": [
    {
     "name": "stdout",
     "output_type": "stream",
     "text": [
      "호텔:호텔 데님(Hotel Denim), 14.564084513399296\n",
      "호텔:티마크그랜드호텔명동, 15.625118138255038\n",
      "호텔:위너스, 12.693338583264687\n",
      "호텔:데이즈 호텔 명동, 16.06001499294476\n",
      "호텔:강남패밀리호텔, 14.073851124956787\n",
      "호텔:(주)서부티엔디 노보텔 앰배서더 서울 용산, 14.616508231659902\n",
      "호텔:남산스토리 나인, 15.82193413541239\n",
      "호텔:롯데시티호텔명동, 16.459139611746323\n",
      "호텔:ROJIN(로진), 8.898652027355384\n",
      "호텔:아난티 앳 강남, 13.672214359877108\n"
     ]
    }
   ],
   "source": [
    "df = pd.DataFrame(small_dist, columns=['거리'])\n",
    "\n",
    "for i in range(10):\n",
    "    print(f\"호텔:{small_df.iloc[i]['사업장명']}, {df.iloc[i]['거리']}\")"
   ]
  }
 ],
 "metadata": {
  "kernelspec": {
   "display_name": "Python 3",
   "language": "python",
   "name": "python3"
  },
  "language_info": {
   "codemirror_mode": {
    "name": "ipython",
    "version": 3
   },
   "file_extension": ".py",
   "mimetype": "text/x-python",
   "name": "python",
   "nbconvert_exporter": "python",
   "pygments_lexer": "ipython3",
   "version": "3.8.16"
  },
  "orig_nbformat": 4
 },
 "nbformat": 4,
 "nbformat_minor": 2
}
